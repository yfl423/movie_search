{
 "cells": [
  {
   "cell_type": "markdown",
   "metadata": {
    "application/vnd.databricks.v1+cell": {
     "cellMetadata": {
      "byteLimit": 2048000,
      "rowLimit": 10000
     },
     "inputWidgets": {},
     "nuid": "a69af4d1-1105-4923-9376-bdfc244d23f7",
     "showTitle": false,
     "title": ""
    }
   },
   "source": [
    "# Spacy installation and setup"
   ]
  },
  {
   "cell_type": "code",
   "execution_count": 0,
   "metadata": {
    "application/vnd.databricks.v1+cell": {
     "cellMetadata": {
      "byteLimit": 2048000,
      "rowLimit": 10000
     },
     "inputWidgets": {},
     "nuid": "804741c7-227c-4351-bf65-b928acf9bda6",
     "showTitle": false,
     "title": ""
    }
   },
   "outputs": [
    {
     "output_type": "stream",
     "name": "stdout",
     "output_type": "stream",
     "text": [
      "Python interpreter will be restarted.\nRequirement already satisfied: spacy in /local_disk0/.ephemeral_nfs/envs/pythonEnv-65e6e14c-63dd-40c1-831f-7a9c3ed5fa4e/lib/python3.9/site-packages (3.7.6)\nRequirement already satisfied: numpy>=1.19.0 in /databricks/python3/lib/python3.9/site-packages (from spacy) (1.21.5)\nRequirement already satisfied: spacy-legacy<3.1.0,>=3.0.11 in /local_disk0/.ephemeral_nfs/envs/pythonEnv-65e6e14c-63dd-40c1-831f-7a9c3ed5fa4e/lib/python3.9/site-packages (from spacy) (3.0.12)\nRequirement already satisfied: catalogue<2.1.0,>=2.0.6 in /local_disk0/.ephemeral_nfs/envs/pythonEnv-65e6e14c-63dd-40c1-831f-7a9c3ed5fa4e/lib/python3.9/site-packages (from spacy) (2.0.10)\nRequirement already satisfied: setuptools in /databricks/python3/lib/python3.9/site-packages (from spacy) (61.2.0)\nRequirement already satisfied: typer<1.0.0,>=0.3.0 in /local_disk0/.ephemeral_nfs/envs/pythonEnv-65e6e14c-63dd-40c1-831f-7a9c3ed5fa4e/lib/python3.9/site-packages (from spacy) (0.12.5)\nRequirement already satisfied: murmurhash<1.1.0,>=0.28.0 in /local_disk0/.ephemeral_nfs/envs/pythonEnv-65e6e14c-63dd-40c1-831f-7a9c3ed5fa4e/lib/python3.9/site-packages (from spacy) (1.0.10)\nRequirement already satisfied: packaging>=20.0 in /databricks/python3/lib/python3.9/site-packages (from spacy) (21.3)\nRequirement already satisfied: cymem<2.1.0,>=2.0.2 in /local_disk0/.ephemeral_nfs/envs/pythonEnv-65e6e14c-63dd-40c1-831f-7a9c3ed5fa4e/lib/python3.9/site-packages (from spacy) (2.0.8)\nRequirement already satisfied: thinc<8.3.0,>=8.2.2 in /local_disk0/.ephemeral_nfs/envs/pythonEnv-65e6e14c-63dd-40c1-831f-7a9c3ed5fa4e/lib/python3.9/site-packages (from spacy) (8.2.5)\nRequirement already satisfied: requests<3.0.0,>=2.13.0 in /databricks/python3/lib/python3.9/site-packages (from spacy) (2.27.1)\nRequirement already satisfied: preshed<3.1.0,>=3.0.2 in /local_disk0/.ephemeral_nfs/envs/pythonEnv-65e6e14c-63dd-40c1-831f-7a9c3ed5fa4e/lib/python3.9/site-packages (from spacy) (3.0.9)\nRequirement already satisfied: weasel<0.5.0,>=0.1.0 in /local_disk0/.ephemeral_nfs/envs/pythonEnv-65e6e14c-63dd-40c1-831f-7a9c3ed5fa4e/lib/python3.9/site-packages (from spacy) (0.4.1)\nRequirement already satisfied: tqdm<5.0.0,>=4.38.0 in /local_disk0/.ephemeral_nfs/envs/pythonEnv-65e6e14c-63dd-40c1-831f-7a9c3ed5fa4e/lib/python3.9/site-packages (from spacy) (4.66.5)\nRequirement already satisfied: srsly<3.0.0,>=2.4.3 in /local_disk0/.ephemeral_nfs/envs/pythonEnv-65e6e14c-63dd-40c1-831f-7a9c3ed5fa4e/lib/python3.9/site-packages (from spacy) (2.4.8)\nRequirement already satisfied: pydantic!=1.8,!=1.8.1,<3.0.0,>=1.7.4 in /local_disk0/.ephemeral_nfs/envs/pythonEnv-65e6e14c-63dd-40c1-831f-7a9c3ed5fa4e/lib/python3.9/site-packages (from spacy) (2.9.1)\nRequirement already satisfied: langcodes<4.0.0,>=3.2.0 in /local_disk0/.ephemeral_nfs/envs/pythonEnv-65e6e14c-63dd-40c1-831f-7a9c3ed5fa4e/lib/python3.9/site-packages (from spacy) (3.4.0)\nRequirement already satisfied: spacy-loggers<2.0.0,>=1.0.0 in /local_disk0/.ephemeral_nfs/envs/pythonEnv-65e6e14c-63dd-40c1-831f-7a9c3ed5fa4e/lib/python3.9/site-packages (from spacy) (1.0.5)\nRequirement already satisfied: wasabi<1.2.0,>=0.9.1 in /local_disk0/.ephemeral_nfs/envs/pythonEnv-65e6e14c-63dd-40c1-831f-7a9c3ed5fa4e/lib/python3.9/site-packages (from spacy) (1.1.3)\nRequirement already satisfied: jinja2 in /databricks/python3/lib/python3.9/site-packages (from spacy) (2.11.3)\nRequirement already satisfied: language-data>=1.2 in /local_disk0/.ephemeral_nfs/envs/pythonEnv-65e6e14c-63dd-40c1-831f-7a9c3ed5fa4e/lib/python3.9/site-packages (from langcodes<4.0.0,>=3.2.0->spacy) (1.2.0)\nRequirement already satisfied: marisa-trie>=0.7.7 in /local_disk0/.ephemeral_nfs/envs/pythonEnv-65e6e14c-63dd-40c1-831f-7a9c3ed5fa4e/lib/python3.9/site-packages (from language-data>=1.2->langcodes<4.0.0,>=3.2.0->spacy) (1.2.0)\nRequirement already satisfied: pyparsing!=3.0.5,>=2.0.2 in /databricks/python3/lib/python3.9/site-packages (from packaging>=20.0->spacy) (3.0.4)\nRequirement already satisfied: annotated-types>=0.6.0 in /local_disk0/.ephemeral_nfs/envs/pythonEnv-65e6e14c-63dd-40c1-831f-7a9c3ed5fa4e/lib/python3.9/site-packages (from pydantic!=1.8,!=1.8.1,<3.0.0,>=1.7.4->spacy) (0.7.0)\nRequirement already satisfied: typing-extensions>=4.6.1 in /local_disk0/.ephemeral_nfs/envs/pythonEnv-65e6e14c-63dd-40c1-831f-7a9c3ed5fa4e/lib/python3.9/site-packages (from pydantic!=1.8,!=1.8.1,<3.0.0,>=1.7.4->spacy) (4.12.2)\nRequirement already satisfied: pydantic-core==2.23.3 in /local_disk0/.ephemeral_nfs/envs/pythonEnv-65e6e14c-63dd-40c1-831f-7a9c3ed5fa4e/lib/python3.9/site-packages (from pydantic!=1.8,!=1.8.1,<3.0.0,>=1.7.4->spacy) (2.23.3)\nRequirement already satisfied: charset-normalizer~=2.0.0 in /databricks/python3/lib/python3.9/site-packages (from requests<3.0.0,>=2.13.0->spacy) (2.0.4)\nRequirement already satisfied: idna<4,>=2.5 in /databricks/python3/lib/python3.9/site-packages (from requests<3.0.0,>=2.13.0->spacy) (3.3)\nRequirement already satisfied: certifi>=2017.4.17 in /databricks/python3/lib/python3.9/site-packages (from requests<3.0.0,>=2.13.0->spacy) (2021.10.8)\nRequirement already satisfied: urllib3<1.27,>=1.21.1 in /databricks/python3/lib/python3.9/site-packages (from requests<3.0.0,>=2.13.0->spacy) (1.26.9)\nRequirement already satisfied: blis<0.8.0,>=0.7.8 in /local_disk0/.ephemeral_nfs/envs/pythonEnv-65e6e14c-63dd-40c1-831f-7a9c3ed5fa4e/lib/python3.9/site-packages (from thinc<8.3.0,>=8.2.2->spacy) (0.7.11)\nRequirement already satisfied: confection<1.0.0,>=0.0.1 in /local_disk0/.ephemeral_nfs/envs/pythonEnv-65e6e14c-63dd-40c1-831f-7a9c3ed5fa4e/lib/python3.9/site-packages (from thinc<8.3.0,>=8.2.2->spacy) (0.1.5)\nRequirement already satisfied: rich>=10.11.0 in /local_disk0/.ephemeral_nfs/envs/pythonEnv-65e6e14c-63dd-40c1-831f-7a9c3ed5fa4e/lib/python3.9/site-packages (from typer<1.0.0,>=0.3.0->spacy) (13.8.1)\nRequirement already satisfied: click>=8.0.0 in /databricks/python3/lib/python3.9/site-packages (from typer<1.0.0,>=0.3.0->spacy) (8.0.4)\nRequirement already satisfied: shellingham>=1.3.0 in /local_disk0/.ephemeral_nfs/envs/pythonEnv-65e6e14c-63dd-40c1-831f-7a9c3ed5fa4e/lib/python3.9/site-packages (from typer<1.0.0,>=0.3.0->spacy) (1.5.4)\nRequirement already satisfied: pygments<3.0.0,>=2.13.0 in /local_disk0/.ephemeral_nfs/envs/pythonEnv-65e6e14c-63dd-40c1-831f-7a9c3ed5fa4e/lib/python3.9/site-packages (from rich>=10.11.0->typer<1.0.0,>=0.3.0->spacy) (2.18.0)\nRequirement already satisfied: markdown-it-py>=2.2.0 in /local_disk0/.ephemeral_nfs/envs/pythonEnv-65e6e14c-63dd-40c1-831f-7a9c3ed5fa4e/lib/python3.9/site-packages (from rich>=10.11.0->typer<1.0.0,>=0.3.0->spacy) (3.0.0)\nRequirement already satisfied: mdurl~=0.1 in /local_disk0/.ephemeral_nfs/envs/pythonEnv-65e6e14c-63dd-40c1-831f-7a9c3ed5fa4e/lib/python3.9/site-packages (from markdown-it-py>=2.2.0->rich>=10.11.0->typer<1.0.0,>=0.3.0->spacy) (0.1.2)\nRequirement already satisfied: smart-open<8.0.0,>=5.2.1 in /local_disk0/.ephemeral_nfs/envs/pythonEnv-65e6e14c-63dd-40c1-831f-7a9c3ed5fa4e/lib/python3.9/site-packages (from weasel<0.5.0,>=0.1.0->spacy) (7.0.4)\nRequirement already satisfied: cloudpathlib<1.0.0,>=0.7.0 in /local_disk0/.ephemeral_nfs/envs/pythonEnv-65e6e14c-63dd-40c1-831f-7a9c3ed5fa4e/lib/python3.9/site-packages (from weasel<0.5.0,>=0.1.0->spacy) (0.19.0)\nRequirement already satisfied: wrapt in /local_disk0/.ephemeral_nfs/envs/pythonEnv-65e6e14c-63dd-40c1-831f-7a9c3ed5fa4e/lib/python3.9/site-packages (from smart-open<8.0.0,>=5.2.1->weasel<0.5.0,>=0.1.0->spacy) (1.16.0)\nRequirement already satisfied: MarkupSafe>=0.23 in /databricks/python3/lib/python3.9/site-packages (from jinja2->spacy) (2.0.1)\nPython interpreter will be restarted.\n"
     ]
    }
   ],
   "source": [
    "%pip install spacy"
   ]
  },
  {
   "cell_type": "code",
   "execution_count": 0,
   "metadata": {
    "application/vnd.databricks.v1+cell": {
     "cellMetadata": {
      "byteLimit": 2048000,
      "rowLimit": 10000
     },
     "inputWidgets": {},
     "nuid": "0aa00ca7-134b-456e-bda2-c2eed57ac20e",
     "showTitle": false,
     "title": ""
    }
   },
   "outputs": [
    {
     "output_type": "stream",
     "name": "stdout",
     "output_type": "stream",
     "text": [
      "Collecting en-core-web-sm==3.7.1\r\n  Downloading https://github.com/explosion/spacy-models/releases/download/en_core_web_sm-3.7.1/en_core_web_sm-3.7.1-py3-none-any.whl (12.8 MB)\r\n\u001B[?25l\r\u001B[K     |                                | 10 kB 19.7 MB/s eta 0:00:01\r\u001B[K     |                                | 20 kB 18.4 MB/s eta 0:00:01\r\u001B[K     |                                | 30 kB 9.1 MB/s eta 0:00:02\r\u001B[K     |                                | 40 kB 8.6 MB/s eta 0:00:02\r\u001B[K     |▏                               | 51 kB 3.6 MB/s eta 0:00:04\r\u001B[K     |▏                               | 61 kB 4.2 MB/s eta 0:00:04\r\u001B[K     |▏                               | 71 kB 4.8 MB/s eta 0:00:03\r\u001B[K     |▏                               | 81 kB 4.9 MB/s eta 0:00:03\r\u001B[K     |▎                               | 92 kB 5.5 MB/s eta 0:00:03\r\u001B[K     |▎                               | 102 kB 4.4 MB/s eta 0:00:03\r\u001B[K     |▎                               | 112 kB 4.4 MB/s eta 0:00:03\r\u001B[K     |▎                               | 122 kB 4.4 MB/s eta 0:00:03\r\u001B[K     |▎                               | 133 kB 4.4 MB/s eta 0:00:03\r\u001B[K     |▍                               | 143 kB 4.4 MB/s eta 0:00:03\r\u001B[K     |▍                               | 153 kB 4.4 MB/s eta 0:00:03\r\u001B[K     |▍                               | 163 kB 4.4 MB/s eta 0:00:03\r\u001B[K     |▍                               | 174 kB 4.4 MB/s eta 0:00:03\r\u001B[K     |▌                               | 184 kB 4.4 MB/s eta 0:00:03\r\u001B[K     |▌                               | 194 kB 4.4 MB/s eta 0:00:03\r\u001B[K     |▌                               | 204 kB 4.4 MB/s eta 0:00:03\r\u001B[K     |▌                               | 215 kB 4.4 MB/s eta 0:00:03\r\u001B[K     |▋                               | 225 kB 4.4 MB/s eta 0:00:03\r\u001B[K     |▋                               | 235 kB 4.4 MB/s eta 0:00:03\r\u001B[K     |▋                               | 245 kB 4.4 MB/s eta 0:00:03\r\u001B[K     |▋                               | 256 kB 4.4 MB/s eta 0:00:03\r\u001B[K     |▋                               | 266 kB 4.4 MB/s eta 0:00:03\r\u001B[K     |▊                               | 276 kB 4.4 MB/s eta 0:00:03\r\u001B[K     |▊                               | 286 kB 4.4 MB/s eta 0:00:03\r\u001B[K     |▊                               | 296 kB 4.4 MB/s eta 0:00:03\r\u001B[K     |▊                               | 307 kB 4.4 MB/s eta 0:00:03\r\u001B[K     |▉                               | 317 kB 4.4 MB/s eta 0:00:03\r\u001B[K     |▉                               | 327 kB 4.4 MB/s eta 0:00:03\r\u001B[K     |▉                               | 337 kB 4.4 MB/s eta 0:00:03\r\u001B[K     |▉                               | 348 kB 4.4 MB/s eta 0:00:03\r\u001B[K     |█                               | 358 kB 4.4 MB/s eta 0:00:03\r\u001B[K     |█                               | 368 kB 4.4 MB/s eta 0:00:03\r\u001B[K     |█                               | 378 kB 4.4 MB/s eta 0:00:03\r\u001B[K     |█                               | 389 kB 4.4 MB/s eta 0:00:03\r\u001B[K     |█                               | 399 kB 4.4 MB/s eta 0:00:03\r\u001B[K     |█                               | 409 kB 4.4 MB/s eta 0:00:03\r\u001B[K     |█                               | 419 kB 4.4 MB/s eta 0:00:03\r\u001B[K     |█                               | 430 kB 4.4 MB/s eta 0:00:03\r\u001B[K     |█                               | 440 kB 4.4 MB/s eta 0:00:03\r\u001B[K     |█▏                              | 450 kB 4.4 MB/s eta 0:00:03\r\u001B[K     |█▏                              | 460 kB 4.4 MB/s eta 0:00:03\r\u001B[K     |█▏                              | 471 kB 4.4 MB/s eta 0:00:03\r\u001B[K     |█▏                              | 481 kB 4.4 MB/s eta 0:00:03\r\u001B[K     |█▎                              | 491 kB 4.4 MB/s eta 0:00:03\r\u001B[K     |█▎                              | 501 kB 4.4 MB/s eta 0:00:03\r\u001B[K     |█▎                              | 512 kB 4.4 MB/s eta 0:00:03\r\u001B[K     |█▎                              | 522 kB 4.4 MB/s eta 0:00:03\r\u001B[K     |█▎                              | 532 kB 4.4 MB/s eta 0:00:03\r\u001B[K     |█▍                              | 542 kB 4.4 MB/s eta 0:00:03\r\u001B[K     |█▍                              | 552 kB 4.4 MB/s eta 0:00:03\r\u001B[K     |█▍                              | 563 kB 4.4 MB/s eta 0:00:03\r\u001B[K     |█▍                              | 573 kB 4.4 MB/s eta 0:00:03\r\u001B[K     |█▌                              | 583 kB 4.4 MB/s eta 0:00:03\r\u001B[K     |█▌                              | 593 kB 4.4 MB/s eta 0:00:03\r\u001B[K     |█▌                              | 604 kB 4.4 MB/s eta 0:00:03\r\u001B[K     |█▌                              | 614 kB 4.4 MB/s eta 0:00:03\r\u001B[K     |█▋                              | 624 kB 4.4 MB/s eta 0:00:03\r\u001B[K     |█▋                              | 634 kB 4.4 MB/s eta 0:00:03\r\u001B[K     |█▋                              | 645 kB 4.4 MB/s eta 0:00:03\r\u001B[K     |█▋                              | 655 kB 4.4 MB/s eta 0:00:03\r\u001B[K     |█▋                              | 665 kB 4.4 MB/s eta 0:00:03\r\u001B[K     |█▊                              | 675 kB 4.4 MB/s eta 0:00:03\r\u001B[K     |█▊                              | 686 kB 4.4 MB/s eta 0:00:03\r\u001B[K     |█▊                              | 696 kB 4.4 MB/s eta 0:00:03\r\u001B[K     |█▊                              | 706 kB 4.4 MB/s eta 0:00:03\r\u001B[K     |█▉                              | 716 kB 4.4 MB/s eta 0:00:03\r\u001B[K     |█▉                              | 727 kB 4.4 MB/s eta 0:00:03\r\u001B[K     |█▉                              | 737 kB 4.4 MB/s eta 0:00:03\r\u001B[K     |█▉                              | 747 kB 4.4 MB/s eta 0:00:03\r\u001B[K     |██                              | 757 kB 4.4 MB/s eta 0:00:03\r\u001B[K     |██                              | 768 kB 4.4 MB/s eta 0:00:03\r\u001B[K     |██                              | 778 kB 4.4 MB/s eta 0:00:03\r\u001B[K     |██                              | 788 kB 4.4 MB/s eta 0:00:03\r\u001B[K     |██                              | 798 kB 4.4 MB/s eta 0:00:03\r\u001B[K     |██                              | 808 kB 4.4 MB/s eta 0:00:03\r\u001B[K     |██                              | 819 kB 4.4 MB/s eta 0:00:03\r\u001B[K     |██                              | 829 kB 4.4 MB/s eta 0:00:03\r\u001B[K     |██                              | 839 kB 4.4 MB/s eta 0:00:03\r\u001B[K     |██▏                             | 849 kB 4.4 MB/s eta 0:00:03\r\u001B[K     |██▏                             | 860 kB 4.4 MB/s eta 0:00:03\r\u001B[K     |██▏                             | 870 kB 4.4 MB/s eta 0:00:03\r\u001B[K     |██▏                             | 880 kB 4.4 MB/s eta 0:00:03\r\u001B[K     |██▎                             | 890 kB 4.4 MB/s eta 0:00:03\r\u001B[K     |██▎                             | 901 kB 4.4 MB/s eta 0:00:03\r\u001B[K     |██▎                             | 911 kB 4.4 MB/s eta 0:00:03\r\u001B[K     |██▎                             | 921 kB 4.4 MB/s eta 0:00:03\r\u001B[K     |██▎                             | 931 kB 4.4 MB/s eta 0:00:03\r\u001B[K     |██▍                             | 942 kB 4.4 MB/s eta 0:00:03\r\u001B[K     |██▍                             | 952 kB 4.4 MB/s eta 0:00:03\r\u001B[K     |██▍                             | 962 kB 4.4 MB/s eta 0:00:03\r\u001B[K     |██▍                             | 972 kB 4.4 MB/s eta 0:00:03\r\u001B[K     |██▌                             | 983 kB 4.4 MB/s eta 0:00:03\r\u001B[K     |██▌                             | 993 kB 4.4 MB/s eta 0:00:03\r\u001B[K     |██▌                             | 1.0 MB 4.4 MB/s eta 0:00:03\r\u001B[K     |██▌                             | 1.0 MB 4.4 MB/s eta 0:00:03\r\u001B[K     |██▋                             | 1.0 MB 4.4 MB/s eta 0:00:03\r\u001B[K     |██▋                             | 1.0 MB 4.4 MB/s eta 0:00:03\r\u001B[K     |██▋                             | 1.0 MB 4.4 MB/s eta 0:00:03\r\u001B[K     |██▋                             | 1.1 MB 4.4 MB/s eta 0:00:03\r\u001B[K     |██▋                             | 1.1 MB 4.4 MB/s eta 0:00:03\r\u001B[K     |██▊                             | 1.1 MB 4.4 MB/s eta 0:00:03\r\u001B[K     |██▊                             | 1.1 MB 4.4 MB/s eta 0:00:03\r\u001B[K     |██▊                             | 1.1 MB 4.4 MB/s eta 0:00:03\r\u001B[K     |██▊                             | 1.1 MB 4.4 MB/s eta 0:00:03\r\u001B[K     |██▉                             | 1.1 MB 4.4 MB/s eta 0:00:03\r\u001B[K     |██▉                             | 1.1 MB 4.4 MB/s eta 0:00:03\r\u001B[K     |██▉                             | 1.1 MB 4.4 MB/s eta 0:00:03\r\u001B[K     |██▉                             | 1.1 MB 4.4 MB/s eta 0:00:03\r\u001B[K     |███                             | 1.2 MB 4.4 MB/s eta 0:00:03\r\u001B[K     |███                             | 1.2 MB 4.4 MB/s eta 0:00:03\r\u001B[K     |███                             | 1.2 MB 4.4 MB/s eta 0:00:03\r\u001B[K     |███                             | 1.2 MB 4.4 MB/s eta 0:00:03\r\u001B[K     |███                             | 1.2 MB 4.4 MB/s eta 0:00:03\r\u001B[K     |███                             | 1.2 MB 4.4 MB/s eta 0:00:03\r\u001B[K     |███                             | 1.2 MB 4.4 MB/s eta 0:00:03\r\u001B[K     |███                             | 1.2 MB 4.4 MB/s eta 0:00:03\r\u001B[K     |███                             | 1.2 MB 4.4 MB/s eta 0:00:03\r\u001B[K     |███▏                            | 1.2 MB 4.4 MB/s eta 0:00:03\r\u001B[K     |███▏                            | 1.3 MB 4.4 MB/s eta 0:00:03\r\u001B[K     |███▏                            | 1.3 MB 4.4 MB/s eta 0:00:03\r\u001B[K     |███▏                            | 1.3 MB 4.4 MB/s eta 0:00:03\r\u001B[K     |███▎                            | 1.3 MB 4.4 MB/s eta 0:00:03\r\u001B[K     |███▎                            | 1.3 MB 4.4 MB/s eta 0:00:03\r\u001B[K     |███▎                            | 1.3 MB 4.4 MB/s eta 0:00:03\r\u001B[K     |███▎                            | 1.3 MB 4.4 MB/s eta 0:00:03\r\u001B[K     |███▎                            | 1.3 MB 4.4 MB/s eta 0:00:03\r\u001B[K     |███▍                            | 1.3 MB 4.4 MB/s eta 0:00:03\r\u001B[K     |███▍                            | 1.4 MB 4.4 MB/s eta 0:00:03\r\u001B[K     |███▍                            | 1.4 MB 4.4 MB/s eta 0:00:03\r\u001B[K     |███▍                            | 1.4 MB 4.4 MB/s eta 0:00:03\r\u001B[K     |███▌                            | 1.4 MB 4.4 MB/s eta 0:00:03\r\u001B[K     |███▌                            | 1.4 MB 4.4 MB/s eta 0:00:03\r\u001B[K     |███▌                            | 1.4 MB 4.4 MB/s eta 0:00:03\r\u001B[K     |███▌                            | 1.4 MB 4.4 MB/s eta 0:00:03\r\u001B[K     |███▋                            | 1.4 MB 4.4 MB/s eta 0:00:03\r\u001B[K     |███▋                            | 1.4 MB 4.4 MB/s eta 0:00:03\r\u001B[K     |███▋                            | 1.4 MB 4.4 MB/s eta 0:00:03\r\u001B[K     |███▋                            | 1.5 MB 4.4 MB/s eta 0:00:03\r\u001B[K     |███▋                            | 1.5 MB 4.4 MB/s eta 0:00:03\r\u001B[K     |███▊                            | 1.5 MB 4.4 MB/s eta 0:00:03\r\u001B[K     |███▊                            | 1.5 MB 4.4 MB/s eta 0:00:03\r\u001B[K     |███▊                            | 1.5 MB 4.4 MB/s eta 0:00:03\r\u001B[K     |███▊                            | 1.5 MB 4.4 MB/s eta 0:00:03\r\u001B[K     |███▉                            | 1.5 MB 4.4 MB/s eta 0:00:03\r\u001B[K     |███▉                            | 1.5 MB 4.4 MB/s eta 0:00:03\r\u001B[K     |███▉                            | 1.5 MB 4.4 MB/s eta 0:00:03\r\u001B[K     |███▉                            | 1.5 MB 4.4 MB/s eta 0:00:03\r\u001B[K     |████                            | 1.6 MB 4.4 MB/s eta 0:00:03\r\u001B[K     |████                            | 1.6 MB 4.4 MB/s eta 0:00:03\r\u001B[K     |████                            | 1.6 MB 4.4 MB/s eta 0:00:03\r\u001B[K     |████                            | 1.6 MB 4.4 MB/s eta 0:00:03\r\u001B[K     |████                            | 1.6 MB 4.4 MB/s eta 0:00:03\r\u001B[K     |████                            | 1.6 MB 4.4 MB/s eta 0:00:03\r\u001B[K     |████                            | 1.6 MB 4.4 MB/s eta 0:00:03\r\u001B[K     |████                            | 1.6 MB 4.4 MB/s eta 0:00:03\r\u001B[K     |████                            | 1.6 MB 4.4 MB/s eta 0:00:03\r\u001B[K     |████▏                           | 1.6 MB 4.4 MB/s eta 0:00:03\r\u001B[K     |████▏                           | 1.7 MB 4.4 MB/s eta 0:00:03\r\u001B[K     |████▏                           | 1.7 MB 4.4 MB/s eta 0:00:03\r\u001B[K     |████▏                           | 1.7 MB 4.4 MB/s eta 0:00:03\r\u001B[K     |████▎                           | 1.7 MB 4.4 MB/s eta 0:00:03\r\u001B[K     |████▎                           | 1.7 MB 4.4 MB/s eta 0:00:03\r\u001B[K     |████▎                           | 1.7 MB 4.4 MB/s eta 0:00:03\r\u001B[K     |████▎                           | 1.7 MB 4.4 MB/s eta 0:00:03\r\u001B[K     |████▎                           | 1.7 MB 4.4 MB/s eta 0:00:03\r\u001B[K     |████▍                           | 1.7 MB 4.4 MB/s eta 0:00:03\r\u001B[K     |████▍                           | 1.8 MB 4.4 MB/s eta 0:00:03\r\u001B[K     |████▍                           | 1.8 MB 4.4 MB/s eta 0:00:03\r\u001B[K     |████▍                           | 1.8 MB 4.4 MB/s eta 0:00:03\r\u001B[K     |████▌                           | 1.8 MB 4.4 MB/s eta 0:00:03\r\u001B[K     |████▌                           | 1.8 MB 4.4 MB/s eta 0:00:03\r\u001B[K     |████▌                           | 1.8 MB 4.4 MB/s eta 0:00:03\r\u001B[K     |████▌                           | 1.8 MB 4.4 MB/s eta 0:00:03\r\u001B[K     |████▋                           | 1.8 MB 4.4 MB/s eta 0:00:03\r\u001B[K     |████▋                           | 1.8 MB 4.4 MB/s eta 0:00:03\r\u001B[K     |████▋                           | 1.8 MB 4.4 MB/s eta 0:00:03\r\u001B[K     |████▋                           | 1.9 MB 4.4 MB/s eta 0:00:03\r\u001B[K     |████▋                           | 1.9 MB 4.4 MB/s eta 0:00:03\r\u001B[K     |████▊                           | 1.9 MB 4.4 MB/s eta 0:00:03\r\u001B[K     |████▊                           | 1.9 MB 4.4 MB/s eta 0:00:03\r\u001B[K     |████▊                           | 1.9 MB 4.4 MB/s eta 0:00:03\r\u001B[K     |████▊                           | 1.9 MB 4.4 MB/s eta 0:00:03\r\u001B[K     |████▉                           | 1.9 MB 4.4 MB/s eta 0:00:03\r\u001B[K     |████▉                           | 1.9 MB 4.4 MB/s eta 0:00:03\r\u001B[K     |████▉                           | 1.9 MB 4.4 MB/s eta 0:00:03\r\u001B[K     |████▉                           | 1.9 MB 4.4 MB/s eta 0:00:03\r\u001B[K     |████▉                           | 2.0 MB 4.4 MB/s eta 0:00:03\r\u001B[K     |█████                           | 2.0 MB 4.4 MB/s eta 0:00:03\r\u001B[K     |█████                           | 2.0 MB 4.4 MB/s eta 0:00:03\r\u001B[K     |█████                           | 2.0 MB 4.4 MB/s eta 0:00:03\r\u001B[K     |█████                           | 2.0 MB 4.4 MB/s eta 0:00:03\r\u001B[K     |█████                           | 2.0 MB 4.4 MB/s eta 0:00:03\r\u001B[K     |█████                           | 2.0 MB 4.4 MB/s eta 0:00:03\r\u001B[K     |█████                           | 2.0 MB 4.4 MB/s eta 0:00:03\r\u001B[K     |█████                           | 2.0 MB 4.4 MB/s eta 0:00:03\r\u001B[K     |█████▏                          | 2.0 MB 4.4 MB/s eta 0:00:03\r\u001B[K     |█████▏                          | 2.1 MB 4.4 MB/s eta 0:00:03\r\u001B[K     |█████▏                          | 2.1 MB 4.4 MB/s eta 0:00:03\r\u001B[K     |█████▏                          | 2.1 MB 4.4 MB/s eta 0:00:03\r\u001B[K     |█████▏                          | 2.1 MB 4.4 MB/s eta 0:00:03\r\u001B[K     |█████▎                          | 2.1 MB 4.4 MB/s eta 0:00:03\r\u001B[K     |█████▎                          | 2.1 MB 4.4 MB/s eta 0:00:03\r\u001B[K     |█████▎                          | 2.1 MB 4.4 MB/s eta 0:00:03\r\u001B[K     |█████▎                          | 2.1 MB 4.4 MB/s eta 0:00:03\r\u001B[K     |█████▍                          | 2.1 MB 4.4 MB/s eta 0:00:03\r\u001B[K     |█████▍                          | 2.2 MB 4.4 MB/s eta 0:00:03\r\u001B[K     |█████▍                          | 2.2 MB 4.4 MB/s eta 0:00:03\r\u001B[K     |█████▍                          | 2.2 MB 4.4 MB/s eta 0:00:03\r\u001B[K     |█████▌                          | 2.2 MB 4.4 MB/s eta 0:00:03\r\u001B[K     |█████▌                          | 2.2 MB 4.4 MB/s eta 0:00:03\r\u001B[K     |█████▌                          | 2.2 MB 4.4 MB/s eta 0:00:03\r\u001B[K     |█████▌                          | 2.2 MB 4.4 MB/s eta 0:00:03\r\u001B[K     |█████▌                          | 2.2 MB 4.4 MB/s eta 0:00:03\r\u001B[K     |█████▋                          | 2.2 MB 4.4 MB/s eta 0:00:03\r\u001B[K     |█████▋                          | 2.2 MB 4.4 MB/s eta 0:00:03\r\u001B[K     |█████▋                          | 2.3 MB 4.4 MB/s eta 0:00:03\r\u001B[K     |█████▋                          | 2.3 MB 4.4 MB/s eta 0:00:03\r\u001B[K     |█████▊                          | 2.3 MB 4.4 MB/s eta 0:00:03\r\u001B[K     |█████▊                          | 2.3 MB 4.4 MB/s eta 0:00:03\r\u001B[K     |█████▊                          | 2.3 MB 4.4 MB/s eta 0:00:03\r\u001B[K     |█████▊                          | 2.3 MB 4.4 MB/s eta 0:00:03\r\u001B[K     |█████▉                          | 2.3 MB 4.4 MB/s eta 0:00:03\r\u001B[K     |█████▉                          | 2.3 MB 4.4 MB/s eta 0:00:03\r\u001B[K     |█████▉                          | 2.3 MB 4.4 MB/s eta 0:00:03\r\u001B[K     |█████▉                          | 2.3 MB 4.4 MB/s eta 0:00:03\r\u001B[K     |█████▉                          | 2.4 MB 4.4 MB/s eta 0:00:03\r\u001B[K     |██████                          | 2.4 MB 4.4 MB/s eta 0:00:03\r\u001B[K     |██████                          | 2.4 MB 4.4 MB/s eta 0:00:03\r\u001B[K     |██████                          | 2.4 MB 4.4 MB/s eta 0:00:03\r\u001B[K     |██████                          | 2.4 MB 4.4 MB/s eta 0:00:03\r\u001B[K     |██████                          | 2.4 MB 4.4 MB/s eta 0:00:03\r\u001B[K     |██████                          | 2.4 MB 4.4 MB/s eta 0:00:03\r\u001B[K     |██████                          | 2.4 MB 4.4 MB/s eta 0:00:03\r\u001B[K     |██████                          | 2.4 MB 4.4 MB/s eta 0:00:03\r\u001B[K     |██████▏                         | 2.4 MB 4.4 MB/s eta 0:00:03\r\u001B[K     |██████▏                         | 2.5 MB 4.4 MB/s eta 0:00:03\r\u001B[K     |██████▏                         | 2.5 MB 4.4 MB/s eta 0:00:03\r\u001B[K     |██████▏                         | 2.5 MB 4.4 MB/s eta 0:00:03\r\u001B[K     |██████▏                         | 2.5 MB 4.4 MB/s eta 0:00:03\r\u001B[K     |██████▎                         | 2.5 MB 4.4 MB/s eta 0:00:03\r\u001B[K     |██████▎                         | 2.5 MB 4.4 MB/s eta 0:00:03\r\u001B[K     |██████▎                         | 2.5 MB 4.4 MB/s eta 0:00:03\r\u001B[K     |██████▎                         | 2.5 MB 4.4 MB/s eta 0:00:03\r\u001B[K     |██████▍                         | 2.5 MB 4.4 MB/s eta 0:00:03\r\u001B[K     |██████▍                         | 2.5 MB 4.4 MB/s eta 0:00:03\r\u001B[K     |██████▍                         | 2.6 MB 4.4 MB/s eta 0:00:03\r\u001B[K     |██████▍                         | 2.6 MB 4.4 MB/s eta 0:00:03\r\u001B[K     |██████▌                         | 2.6 MB 4.4 MB/s eta 0:00:03\r\u001B[K     |██████▌                         | 2.6 MB 4.4 MB/s eta 0:00:03\r\u001B[K     |██████▌                         | 2.6 MB 4.4 MB/s eta 0:00:03\r\u001B[K     |██████▌                         | 2.6 MB 4.4 MB/s eta 0:00:03\r\u001B[K     |██████▌                         | 2.6 MB 4.4 MB/s eta 0:00:03\r\u001B[K     |██████▋                         | 2.6 MB 4.4 MB/s eta 0:00:03\r\u001B[K     |██████▋                         | 2.6 MB 4.4 MB/s eta 0:00:03\r\u001B[K     |██████▋                         | 2.7 MB 4.4 MB/s eta 0:00:03\r\u001B[K     |██████▋                         | 2.7 MB 4.4 MB/s eta 0:00:03\r\u001B[K     |██████▊                         | 2.7 MB 4.4 MB/s eta 0:00:03\r\u001B[K     |██████▊                         | 2.7 MB 4.4 MB/s eta 0:00:03\r\u001B[K     |██████▊                         | 2.7 MB 4.4 MB/s eta 0:00:03\r\u001B[K     |██████▊                         | 2.7 MB 4.4 MB/s eta 0:00:03\r\u001B[K     |██████▉                         | 2.7 MB 4.4 MB/s eta 0:00:03\r\u001B[K     |██████▉                         | 2.7 MB 4.4 MB/s eta 0:00:03\r\u001B[K     |██████▉                         | 2.7 MB 4.4 MB/s eta 0:00:03\r\u001B[K     |██████▉                         | 2.7 MB 4.4 MB/s eta 0:00:03\r\u001B[K     |██████▉                         | 2.8 MB 4.4 MB/s eta 0:00:03\r\u001B[K     |███████                         | 2.8 MB 4.4 MB/s eta 0:00:03\r\u001B[K     |███████                         | 2.8 MB 4.4 MB/s eta 0:00:03\r\u001B[K     |███████                         | 2.8 MB 4.4 MB/s eta 0:00:03\r\u001B[K     |███████                         | 2.8 MB 4.4 MB/s eta 0:00:03\r\u001B[K     |███████                         | 2.8 MB 4.4 MB/s eta 0:00:03\r\u001B[K     |███████                         | 2.8 MB 4.4 MB/s eta 0:00:03\r\u001B[K     |███████                         | 2.8 MB 4.4 MB/s eta 0:00:03\r\u001B[K     |███████                         | 2.8 MB 4.4 MB/s eta 0:00:03\r\u001B[K     |███████▏                        | 2.8 MB 4.4 MB/s eta 0:00:03\r\u001B[K     |███████▏                        | 2.9 MB 4.4 MB/s eta 0:00:03\r\u001B[K     |███████▏                        | 2.9 MB 4.4 MB/s eta 0:00:03\r\u001B[K     |███████▏                        | 2.9 MB 4.4 MB/s eta 0:00:03\r\u001B[K     |███████▏                        | 2.9 MB 4.4 MB/s eta 0:00:03\r\u001B[K     |███████▎                        | 2.9 MB 4.4 MB/s eta 0:00:03\r\u001B[K     |███████▎                        | 2.9 MB 4.4 MB/s eta 0:00:03\r\u001B[K     |███████▎                        | 2.9 MB 4.4 MB/s eta 0:00:03\r\u001B[K     |███████▎                        | 2.9 MB 4.4 MB/s eta 0:00:03\r\u001B[K     |███████▍                        | 2.9 MB 4.4 MB/s eta 0:00:03\r\u001B[K     |███████▍                        | 2.9 MB 4.4 MB/s eta 0:00:03\r\u001B[K     |███████▍                        | 3.0 MB 4.4 MB/s eta 0:00:03\r\u001B[K     |███████▍                        | 3.0 MB 4.4 MB/s eta 0:00:03\r\u001B[K     |███████▌                        | 3.0 MB 4.4 MB/s eta 0:00:03\r\u001B[K     |███████▌                        | 3.0 MB 4.4 MB/s eta 0:00:03\r\u001B[K     |███████▌                        | 3.0 MB 4.4 MB/s eta 0:00:03\r\u001B[K     |███████▌                        | 3.0 MB 4.4 MB/s eta 0:00:03\r\u001B[K     |███████▌                        | 3.0 MB 4.4 MB/s eta 0:00:03\r\u001B[K     |███████▋                        | 3.0 MB 4.4 MB/s eta 0:00:03\r\u001B[K     |███████▋                        | 3.0 MB 4.4 MB/s eta 0:00:03\r\u001B[K     |███████▋                        | 3.1 MB 4.4 MB/s eta 0:00:03\r\u001B[K     |███████▋                        | 3.1 MB 4.4 MB/s eta 0:00:03\r\u001B[K     |███████▊                        | 3.1 MB 4.4 MB/s eta 0:00:03\r\u001B[K     |███████▊                        | 3.1 MB 4.4 MB/s eta 0:00:03\r\u001B[K     |███████▊                        | 3.1 MB 4.4 MB/s eta 0:00:03\r\u001B[K     |███████▊                        | 3.1 MB 4.4 MB/s eta 0:00:03\r\u001B[K     |███████▉                        | 3.1 MB 4.4 MB/s eta 0:00:03\r\u001B[K     |███████▉                        | 3.1 MB 4.4 MB/s eta 0:00:03\r\u001B[K     |███████▉                        | 3.1 MB 4.4 MB/s eta 0:00:03\r\u001B[K     |███████▉                        | 3.1 MB 4.4 MB/s eta 0:00:03\r\u001B[K     |███████▉                        | 3.2 MB 4.4 MB/s eta 0:00:03\r\u001B[K     |████████                        | 3.2 MB 4.4 MB/s eta 0:00:03\r\u001B[K     |████████                        | 3.2 MB 4.4 MB/s eta 0:00:03\r\u001B[K     |████████                        | 3.2 MB 4.4 MB/s eta 0:00:03\r\u001B[K     |████████                        | 3.2 MB 4.4 MB/s eta 0:00:03\r\u001B[K     |████████                        | 3.2 MB 4.4 MB/s eta 0:00:03\r\u001B[K     |████████                        | 3.2 MB 4.4 MB/s eta 0:00:03\r\u001B[K     |████████                        | 3.2 MB 4.4 MB/s eta 0:00:03\r\u001B[K     |████████                        | 3.2 MB 4.4 MB/s eta 0:00:03\r\u001B[K     |████████▏                       | 3.2 MB 4.4 MB/s eta 0:00:03\r\u001B[K     |████████▏                       | 3.3 MB 4.4 MB/s eta 0:00:03\r\u001B[K     |████████▏                       | 3.3 MB 4.4 MB/s eta 0:00:03\r\u001B[K     |████████▏                       | 3.3 MB 4.4 MB/s eta 0:00:03\r\u001B[K     |████████▏                       | 3.3 MB 4.4 MB/s eta 0:00:03\r\u001B[K     |████████▎                       | 3.3 MB 4.4 MB/s eta 0:00:03\r\u001B[K     |████████▎                       | 3.3 MB 4.4 MB/s eta 0:00:03\r\u001B[K     |████████▎                       | 3.3 MB 4.4 MB/s eta 0:00:03\r\u001B[K     |████████▎                       | 3.3 MB 4.4 MB/s eta 0:00:03\r\u001B[K     |████████▍                       | 3.3 MB 4.4 MB/s eta 0:00:03\r\u001B[K     |████████▍                       | 3.3 MB 4.4 MB/s eta 0:00:03\r\u001B[K     |████████▍                       | 3.4 MB 4.4 MB/s eta 0:00:03\r\u001B[K     |████████▍                       | 3.4 MB 4.4 MB/s eta 0:00:03\r\u001B[K     |████████▌                       | 3.4 MB 4.4 MB/s eta 0:00:03\r\u001B[K     |████████▌                       | 3.4 MB 4.4 MB/s eta 0:00:03\r\u001B[K     |████████▌                       | 3.4 MB 4.4 MB/s eta 0:00:03\r\u001B[K     |████████▌                       | 3.4 MB 4.4 MB/s eta 0:00:03\r\u001B[K     |████████▌                       | 3.4 MB 4.4 MB/s eta 0:00:03\r\u001B[K     |████████▋                       | 3.4 MB 4.4 MB/s eta 0:00:03\r\u001B[K     |████████▋                       | 3.4 MB 4.4 MB/s eta 0:00:03\r\u001B[K     |████████▋                       | 3.5 MB 4.4 MB/s eta 0:00:03\r\u001B[K     |████████▋                       | 3.5 MB 4.4 MB/s eta 0:00:03\r\u001B[K     |████████▊                       | 3.5 MB 4.4 MB/s eta 0:00:03\r\u001B[K     |████████▊                       | 3.5 MB 4.4 MB/s eta 0:00:03\r\u001B[K     |████████▊                       | 3.5 MB 4.4 MB/s eta 0:00:03\r\u001B[K     |████████▊                       | 3.5 MB 4.4 MB/s eta 0:00:03\r\u001B[K     |████████▉                       | 3.5 MB 4.4 MB/s eta 0:00:03\r\u001B[K     |████████▉                       | 3.5 MB 4.4 MB/s eta 0:00:03\r\u001B[K     |████████▉                       | 3.5 MB 4.4 MB/s eta 0:00:03\r\u001B[K     |████████▉                       | 3.5 MB 4.4 MB/s eta 0:00:03\r\u001B[K     |████████▉                       | 3.6 MB 4.4 MB/s eta 0:00:03\r\u001B[K     |█████████                       | 3.6 MB 4.4 MB/s eta 0:00:03\r\u001B[K     |█████████                       | 3.6 MB 4.4 MB/s eta 0:00:03\r\u001B[K     |█████████                       | \n\n*** WARNING: max output size exceeded, skipping output. ***\n\n██████████████████████▋     | 10.6 MB 4.4 MB/s eta 0:00:01\r\u001B[K     |██████████████████████████▋     | 10.6 MB 4.4 MB/s eta 0:00:01\r\u001B[K     |██████████████████████████▋     | 10.7 MB 4.4 MB/s eta 0:00:01\r\u001B[K     |██████████████████████████▊     | 10.7 MB 4.4 MB/s eta 0:00:01\r\u001B[K     |██████████████████████████▊     | 10.7 MB 4.4 MB/s eta 0:00:01\r\u001B[K     |██████████████████████████▊     | 10.7 MB 4.4 MB/s eta 0:00:01\r\u001B[K     |██████████████████████████▊     | 10.7 MB 4.4 MB/s eta 0:00:01\r\u001B[K     |██████████████████████████▊     | 10.7 MB 4.4 MB/s eta 0:00:01\r\u001B[K     |██████████████████████████▉     | 10.7 MB 4.4 MB/s eta 0:00:01\r\u001B[K     |██████████████████████████▉     | 10.7 MB 4.4 MB/s eta 0:00:01\r\u001B[K     |██████████████████████████▉     | 10.7 MB 4.4 MB/s eta 0:00:01\r\u001B[K     |██████████████████████████▉     | 10.8 MB 4.4 MB/s eta 0:00:01\r\u001B[K     |███████████████████████████     | 10.8 MB 4.4 MB/s eta 0:00:01\r\u001B[K     |███████████████████████████     | 10.8 MB 4.4 MB/s eta 0:00:01\r\u001B[K     |███████████████████████████     | 10.8 MB 4.4 MB/s eta 0:00:01\r\u001B[K     |███████████████████████████     | 10.8 MB 4.4 MB/s eta 0:00:01\r\u001B[K     |███████████████████████████     | 10.8 MB 4.4 MB/s eta 0:00:01\r\u001B[K     |███████████████████████████     | 10.8 MB 4.4 MB/s eta 0:00:01\r\u001B[K     |███████████████████████████     | 10.8 MB 4.4 MB/s eta 0:00:01\r\u001B[K     |███████████████████████████     | 10.8 MB 4.4 MB/s eta 0:00:01\r\u001B[K     |███████████████████████████     | 10.8 MB 4.4 MB/s eta 0:00:01\r\u001B[K     |███████████████████████████▏    | 10.9 MB 4.4 MB/s eta 0:00:01\r\u001B[K     |███████████████████████████▏    | 10.9 MB 4.4 MB/s eta 0:00:01\r\u001B[K     |███████████████████████████▏    | 10.9 MB 4.4 MB/s eta 0:00:01\r\u001B[K     |███████████████████████████▏    | 10.9 MB 4.4 MB/s eta 0:00:01\r\u001B[K     |███████████████████████████▎    | 10.9 MB 4.4 MB/s eta 0:00:01\r\u001B[K     |███████████████████████████▎    | 10.9 MB 4.4 MB/s eta 0:00:01\r\u001B[K     |███████████████████████████▎    | 10.9 MB 4.4 MB/s eta 0:00:01\r\u001B[K     |███████████████████████████▎    | 10.9 MB 4.4 MB/s eta 0:00:01\r\u001B[K     |███████████████████████████▍    | 10.9 MB 4.4 MB/s eta 0:00:01\r\u001B[K     |███████████████████████████▍    | 10.9 MB 4.4 MB/s eta 0:00:01\r\u001B[K     |███████████████████████████▍    | 11.0 MB 4.4 MB/s eta 0:00:01\r\u001B[K     |███████████████████████████▍    | 11.0 MB 4.4 MB/s eta 0:00:01\r\u001B[K     |███████████████████████████▍    | 11.0 MB 4.4 MB/s eta 0:00:01\r\u001B[K     |███████████████████████████▌    | 11.0 MB 4.4 MB/s eta 0:00:01\r\u001B[K     |███████████████████████████▌    | 11.0 MB 4.4 MB/s eta 0:00:01\r\u001B[K     |███████████████████████████▌    | 11.0 MB 4.4 MB/s eta 0:00:01\r\u001B[K     |███████████████████████████▌    | 11.0 MB 4.4 MB/s eta 0:00:01\r\u001B[K     |███████████████████████████▋    | 11.0 MB 4.4 MB/s eta 0:00:01\r\u001B[K     |███████████████████████████▋    | 11.0 MB 4.4 MB/s eta 0:00:01\r\u001B[K     |███████████████████████████▋    | 11.0 MB 4.4 MB/s eta 0:00:01\r\u001B[K     |███████████████████████████▋    | 11.1 MB 4.4 MB/s eta 0:00:01\r\u001B[K     |███████████████████████████▋    | 11.1 MB 4.4 MB/s eta 0:00:01\r\u001B[K     |███████████████████████████▊    | 11.1 MB 4.4 MB/s eta 0:00:01\r\u001B[K     |███████████████████████████▊    | 11.1 MB 4.4 MB/s eta 0:00:01\r\u001B[K     |███████████████████████████▊    | 11.1 MB 4.4 MB/s eta 0:00:01\r\u001B[K     |███████████████████████████▊    | 11.1 MB 4.4 MB/s eta 0:00:01\r\u001B[K     |███████████████████████████▉    | 11.1 MB 4.4 MB/s eta 0:00:01\r\u001B[K     |███████████████████████████▉    | 11.1 MB 4.4 MB/s eta 0:00:01\r\u001B[K     |███████████████████████████▉    | 11.1 MB 4.4 MB/s eta 0:00:01\r\u001B[K     |███████████████████████████▉    | 11.2 MB 4.4 MB/s eta 0:00:01\r\u001B[K     |████████████████████████████    | 11.2 MB 4.4 MB/s eta 0:00:01\r\u001B[K     |████████████████████████████    | 11.2 MB 4.4 MB/s eta 0:00:01\r\u001B[K     |████████████████████████████    | 11.2 MB 4.4 MB/s eta 0:00:01\r\u001B[K     |████████████████████████████    | 11.2 MB 4.4 MB/s eta 0:00:01\r\u001B[K     |████████████████████████████    | 11.2 MB 4.4 MB/s eta 0:00:01\r\u001B[K     |████████████████████████████    | 11.2 MB 4.4 MB/s eta 0:00:01\r\u001B[K     |████████████████████████████    | 11.2 MB 4.4 MB/s eta 0:00:01\r\u001B[K     |████████████████████████████    | 11.2 MB 4.4 MB/s eta 0:00:01\r\u001B[K     |████████████████████████████    | 11.2 MB 4.4 MB/s eta 0:00:01\r\u001B[K     |████████████████████████████▏   | 11.3 MB 4.4 MB/s eta 0:00:01\r\u001B[K     |████████████████████████████▏   | 11.3 MB 4.4 MB/s eta 0:00:01\r\u001B[K     |████████████████████████████▏   | 11.3 MB 4.4 MB/s eta 0:00:01\r\u001B[K     |████████████████████████████▏   | 11.3 MB 4.4 MB/s eta 0:00:01\r\u001B[K     |████████████████████████████▎   | 11.3 MB 4.4 MB/s eta 0:00:01\r\u001B[K     |████████████████████████████▎   | 11.3 MB 4.4 MB/s eta 0:00:01\r\u001B[K     |████████████████████████████▎   | 11.3 MB 4.4 MB/s eta 0:00:01\r\u001B[K     |████████████████████████████▎   | 11.3 MB 4.4 MB/s eta 0:00:01\r\u001B[K     |████████████████████████████▎   | 11.3 MB 4.4 MB/s eta 0:00:01\r\u001B[K     |████████████████████████████▍   | 11.3 MB 4.4 MB/s eta 0:00:01\r\u001B[K     |████████████████████████████▍   | 11.4 MB 4.4 MB/s eta 0:00:01\r\u001B[K     |████████████████████████████▍   | 11.4 MB 4.4 MB/s eta 0:00:01\r\u001B[K     |████████████████████████████▍   | 11.4 MB 4.4 MB/s eta 0:00:01\r\u001B[K     |████████████████████████████▌   | 11.4 MB 4.4 MB/s eta 0:00:01\r\u001B[K     |████████████████████████████▌   | 11.4 MB 4.4 MB/s eta 0:00:01\r\u001B[K     |████████████████████████████▌   | 11.4 MB 4.4 MB/s eta 0:00:01\r\u001B[K     |████████████████████████████▌   | 11.4 MB 4.4 MB/s eta 0:00:01\r\u001B[K     |████████████████████████████▋   | 11.4 MB 4.4 MB/s eta 0:00:01\r\u001B[K     |████████████████████████████▋   | 11.4 MB 4.4 MB/s eta 0:00:01\r\u001B[K     |████████████████████████████▋   | 11.4 MB 4.4 MB/s eta 0:00:01\r\u001B[K     |████████████████████████████▋   | 11.5 MB 4.4 MB/s eta 0:00:01\r\u001B[K     |████████████████████████████▋   | 11.5 MB 4.4 MB/s eta 0:00:01\r\u001B[K     |████████████████████████████▊   | 11.5 MB 4.4 MB/s eta 0:00:01\r\u001B[K     |████████████████████████████▊   | 11.5 MB 4.4 MB/s eta 0:00:01\r\u001B[K     |████████████████████████████▊   | 11.5 MB 4.4 MB/s eta 0:00:01\r\u001B[K     |████████████████████████████▊   | 11.5 MB 4.4 MB/s eta 0:00:01\r\u001B[K     |████████████████████████████▉   | 11.5 MB 4.4 MB/s eta 0:00:01\r\u001B[K     |████████████████████████████▉   | 11.5 MB 4.4 MB/s eta 0:00:01\r\u001B[K     |████████████████████████████▉   | 11.5 MB 4.4 MB/s eta 0:00:01\r\u001B[K     |████████████████████████████▉   | 11.6 MB 4.4 MB/s eta 0:00:01\r\u001B[K     |█████████████████████████████   | 11.6 MB 4.4 MB/s eta 0:00:01\r\u001B[K     |█████████████████████████████   | 11.6 MB 4.4 MB/s eta 0:00:01\r\u001B[K     |█████████████████████████████   | 11.6 MB 4.4 MB/s eta 0:00:01\r\u001B[K     |█████████████████████████████   | 11.6 MB 4.4 MB/s eta 0:00:01\r\u001B[K     |█████████████████████████████   | 11.6 MB 4.4 MB/s eta 0:00:01\r\u001B[K     |█████████████████████████████   | 11.6 MB 4.4 MB/s eta 0:00:01\r\u001B[K     |█████████████████████████████   | 11.6 MB 4.4 MB/s eta 0:00:01\r\u001B[K     |█████████████████████████████   | 11.6 MB 4.4 MB/s eta 0:00:01\r\u001B[K     |█████████████████████████████   | 11.6 MB 4.4 MB/s eta 0:00:01\r\u001B[K     |█████████████████████████████▏  | 11.7 MB 4.4 MB/s eta 0:00:01\r\u001B[K     |█████████████████████████████▏  | 11.7 MB 4.4 MB/s eta 0:00:01\r\u001B[K     |█████████████████████████████▏  | 11.7 MB 4.4 MB/s eta 0:00:01\r\u001B[K     |█████████████████████████████▏  | 11.7 MB 4.4 MB/s eta 0:00:01\r\u001B[K     |█████████████████████████████▎  | 11.7 MB 4.4 MB/s eta 0:00:01\r\u001B[K     |█████████████████████████████▎  | 11.7 MB 4.4 MB/s eta 0:00:01\r\u001B[K     |█████████████████████████████▎  | 11.7 MB 4.4 MB/s eta 0:00:01\r\u001B[K     |█████████████████████████████▎  | 11.7 MB 4.4 MB/s eta 0:00:01\r\u001B[K     |█████████████████████████████▎  | 11.7 MB 4.4 MB/s eta 0:00:01\r\u001B[K     |█████████████████████████████▍  | 11.7 MB 4.4 MB/s eta 0:00:01\r\u001B[K     |█████████████████████████████▍  | 11.8 MB 4.4 MB/s eta 0:00:01\r\u001B[K     |█████████████████████████████▍  | 11.8 MB 4.4 MB/s eta 0:00:01\r\u001B[K     |█████████████████████████████▍  | 11.8 MB 4.4 MB/s eta 0:00:01\r\u001B[K     |█████████████████████████████▌  | 11.8 MB 4.4 MB/s eta 0:00:01\r\u001B[K     |█████████████████████████████▌  | 11.8 MB 4.4 MB/s eta 0:00:01\r\u001B[K     |█████████████████████████████▌  | 11.8 MB 4.4 MB/s eta 0:00:01\r\u001B[K     |█████████████████████████████▌  | 11.8 MB 4.4 MB/s eta 0:00:01\r\u001B[K     |█████████████████████████████▋  | 11.8 MB 4.4 MB/s eta 0:00:01\r\u001B[K     |█████████████████████████████▋  | 11.8 MB 4.4 MB/s eta 0:00:01\r\u001B[K     |█████████████████████████████▋  | 11.8 MB 4.4 MB/s eta 0:00:01\r\u001B[K     |█████████████████████████████▋  | 11.9 MB 4.4 MB/s eta 0:00:01\r\u001B[K     |█████████████████████████████▋  | 11.9 MB 4.4 MB/s eta 0:00:01\r\u001B[K     |█████████████████████████████▊  | 11.9 MB 4.4 MB/s eta 0:00:01\r\u001B[K     |█████████████████████████████▊  | 11.9 MB 4.4 MB/s eta 0:00:01\r\u001B[K     |█████████████████████████████▊  | 11.9 MB 4.4 MB/s eta 0:00:01\r\u001B[K     |█████████████████████████████▊  | 11.9 MB 4.4 MB/s eta 0:00:01\r\u001B[K     |█████████████████████████████▉  | 11.9 MB 4.4 MB/s eta 0:00:01\r\u001B[K     |█████████████████████████████▉  | 11.9 MB 4.4 MB/s eta 0:00:01\r\u001B[K     |█████████████████████████████▉  | 11.9 MB 4.4 MB/s eta 0:00:01\r\u001B[K     |█████████████████████████████▉  | 12.0 MB 4.4 MB/s eta 0:00:01\r\u001B[K     |██████████████████████████████  | 12.0 MB 4.4 MB/s eta 0:00:01\r\u001B[K     |██████████████████████████████  | 12.0 MB 4.4 MB/s eta 0:00:01\r\u001B[K     |██████████████████████████████  | 12.0 MB 4.4 MB/s eta 0:00:01\r\u001B[K     |██████████████████████████████  | 12.0 MB 4.4 MB/s eta 0:00:01\r\u001B[K     |██████████████████████████████  | 12.0 MB 4.4 MB/s eta 0:00:01\r\u001B[K     |██████████████████████████████  | 12.0 MB 4.4 MB/s eta 0:00:01\r\u001B[K     |██████████████████████████████  | 12.0 MB 4.4 MB/s eta 0:00:01\r\u001B[K     |██████████████████████████████  | 12.0 MB 4.4 MB/s eta 0:00:01\r\u001B[K     |██████████████████████████████  | 12.0 MB 4.4 MB/s eta 0:00:01\r\u001B[K     |██████████████████████████████▏ | 12.1 MB 4.4 MB/s eta 0:00:01\r\u001B[K     |██████████████████████████████▏ | 12.1 MB 4.4 MB/s eta 0:00:01\r\u001B[K     |██████████████████████████████▏ | 12.1 MB 4.4 MB/s eta 0:00:01\r\u001B[K     |██████████████████████████████▏ | 12.1 MB 4.4 MB/s eta 0:00:01\r\u001B[K     |██████████████████████████████▎ | 12.1 MB 4.4 MB/s eta 0:00:01\r\u001B[K     |██████████████████████████████▎ | 12.1 MB 4.4 MB/s eta 0:00:01\r\u001B[K     |██████████████████████████████▎ | 12.1 MB 4.4 MB/s eta 0:00:01\r\u001B[K     |██████████████████████████████▎ | 12.1 MB 4.4 MB/s eta 0:00:01\r\u001B[K     |██████████████████████████████▎ | 12.1 MB 4.4 MB/s eta 0:00:01\r\u001B[K     |██████████████████████████████▍ | 12.1 MB 4.4 MB/s eta 0:00:01\r\u001B[K     |██████████████████████████████▍ | 12.2 MB 4.4 MB/s eta 0:00:01\r\u001B[K     |██████████████████████████████▍ | 12.2 MB 4.4 MB/s eta 0:00:01\r\u001B[K     |██████████████████████████████▍ | 12.2 MB 4.4 MB/s eta 0:00:01\r\u001B[K     |██████████████████████████████▌ | 12.2 MB 4.4 MB/s eta 0:00:01\r\u001B[K     |██████████████████████████████▌ | 12.2 MB 4.4 MB/s eta 0:00:01\r\u001B[K     |██████████████████████████████▌ | 12.2 MB 4.4 MB/s eta 0:00:01\r\u001B[K     |██████████████████████████████▌ | 12.2 MB 4.4 MB/s eta 0:00:01\r\u001B[K     |██████████████████████████████▋ | 12.2 MB 4.4 MB/s eta 0:00:01\r\u001B[K     |██████████████████████████████▋ | 12.2 MB 4.4 MB/s eta 0:00:01\r\u001B[K     |██████████████████████████████▋ | 12.2 MB 4.4 MB/s eta 0:00:01\r\u001B[K     |██████████████████████████████▋ | 12.3 MB 4.4 MB/s eta 0:00:01\r\u001B[K     |██████████████████████████████▋ | 12.3 MB 4.4 MB/s eta 0:00:01\r\u001B[K     |██████████████████████████████▊ | 12.3 MB 4.4 MB/s eta 0:00:01\r\u001B[K     |██████████████████████████████▊ | 12.3 MB 4.4 MB/s eta 0:00:01\r\u001B[K     |██████████████████████████████▊ | 12.3 MB 4.4 MB/s eta 0:00:01\r\u001B[K     |██████████████████████████████▊ | 12.3 MB 4.4 MB/s eta 0:00:01\r\u001B[K     |██████████████████████████████▉ | 12.3 MB 4.4 MB/s eta 0:00:01\r\u001B[K     |██████████████████████████████▉ | 12.3 MB 4.4 MB/s eta 0:00:01\r\u001B[K     |██████████████████████████████▉ | 12.3 MB 4.4 MB/s eta 0:00:01\r\u001B[K     |██████████████████████████████▉ | 12.3 MB 4.4 MB/s eta 0:00:01\r\u001B[K     |███████████████████████████████ | 12.4 MB 4.4 MB/s eta 0:00:01\r\u001B[K     |███████████████████████████████ | 12.4 MB 4.4 MB/s eta 0:00:01\r\u001B[K     |███████████████████████████████ | 12.4 MB 4.4 MB/s eta 0:00:01\r\u001B[K     |███████████████████████████████ | 12.4 MB 4.4 MB/s eta 0:00:01\r\u001B[K     |███████████████████████████████ | 12.4 MB 4.4 MB/s eta 0:00:01\r\u001B[K     |███████████████████████████████ | 12.4 MB 4.4 MB/s eta 0:00:01\r\u001B[K     |███████████████████████████████ | 12.4 MB 4.4 MB/s eta 0:00:01\r\u001B[K     |███████████████████████████████ | 12.4 MB 4.4 MB/s eta 0:00:01\r\u001B[K     |███████████████████████████████ | 12.4 MB 4.4 MB/s eta 0:00:01\r\u001B[K     |███████████████████████████████▏| 12.5 MB 4.4 MB/s eta 0:00:01\r\u001B[K     |███████████████████████████████▏| 12.5 MB 4.4 MB/s eta 0:00:01\r\u001B[K     |███████████████████████████████▏| 12.5 MB 4.4 MB/s eta 0:00:01\r\u001B[K     |███████████████████████████████▏| 12.5 MB 4.4 MB/s eta 0:00:01\r\u001B[K     |███████████████████████████████▎| 12.5 MB 4.4 MB/s eta 0:00:01\r\u001B[K     |███████████████████████████████▎| 12.5 MB 4.4 MB/s eta 0:00:01\r\u001B[K     |███████████████████████████████▎| 12.5 MB 4.4 MB/s eta 0:00:01\r\u001B[K     |███████████████████████████████▎| 12.5 MB 4.4 MB/s eta 0:00:01\r\u001B[K     |███████████████████████████████▎| 12.5 MB 4.4 MB/s eta 0:00:01\r\u001B[K     |███████████████████████████████▍| 12.5 MB 4.4 MB/s eta 0:00:01\r\u001B[K     |███████████████████████████████▍| 12.6 MB 4.4 MB/s eta 0:00:01\r\u001B[K     |███████████████████████████████▍| 12.6 MB 4.4 MB/s eta 0:00:01\r\u001B[K     |███████████████████████████████▍| 12.6 MB 4.4 MB/s eta 0:00:01\r\u001B[K     |███████████████████████████████▌| 12.6 MB 4.4 MB/s eta 0:00:01\r\u001B[K     |███████████████████████████████▌| 12.6 MB 4.4 MB/s eta 0:00:01\r\u001B[K     |███████████████████████████████▌| 12.6 MB 4.4 MB/s eta 0:00:01\r\u001B[K     |███████████████████████████████▌| 12.6 MB 4.4 MB/s eta 0:00:01\r\u001B[K     |███████████████████████████████▋| 12.6 MB 4.4 MB/s eta 0:00:01\r\u001B[K     |███████████████████████████████▋| 12.6 MB 4.4 MB/s eta 0:00:01\r\u001B[K     |███████████████████████████████▋| 12.6 MB 4.4 MB/s eta 0:00:01\r\u001B[K     |███████████████████████████████▋| 12.7 MB 4.4 MB/s eta 0:00:01\r\u001B[K     |███████████████████████████████▋| 12.7 MB 4.4 MB/s eta 0:00:01\r\u001B[K     |███████████████████████████████▊| 12.7 MB 4.4 MB/s eta 0:00:01\r\u001B[K     |███████████████████████████████▊| 12.7 MB 4.4 MB/s eta 0:00:01\r\u001B[K     |███████████████████████████████▊| 12.7 MB 4.4 MB/s eta 0:00:01\r\u001B[K     |███████████████████████████████▊| 12.7 MB 4.4 MB/s eta 0:00:01\r\u001B[K     |███████████████████████████████▉| 12.7 MB 4.4 MB/s eta 0:00:01\r\u001B[K     |███████████████████████████████▉| 12.7 MB 4.4 MB/s eta 0:00:01\r\u001B[K     |███████████████████████████████▉| 12.7 MB 4.4 MB/s eta 0:00:01\r\u001B[K     |███████████████████████████████▉| 12.7 MB 4.4 MB/s eta 0:00:01\r\u001B[K     |████████████████████████████████| 12.8 MB 4.4 MB/s eta 0:00:01\r\u001B[K     |████████████████████████████████| 12.8 MB 4.4 MB/s eta 0:00:01\r\u001B[K     |████████████████████████████████| 12.8 MB 4.4 MB/s eta 0:00:01\r\u001B[K     |████████████████████████████████| 12.8 MB 4.4 MB/s eta 0:00:01\r\u001B[K     |████████████████████████████████| 12.8 MB 4.4 MB/s eta 0:00:01\r\u001B[K     |████████████████████████████████| 12.8 MB 4.4 MB/s \r\n\u001B[?25hRequirement already satisfied: spacy<3.8.0,>=3.7.2 in /local_disk0/.ephemeral_nfs/envs/pythonEnv-65e6e14c-63dd-40c1-831f-7a9c3ed5fa4e/lib/python3.9/site-packages (from en-core-web-sm==3.7.1) (3.7.6)\r\nRequirement already satisfied: numpy>=1.19.0 in /databricks/python3/lib/python3.9/site-packages (from spacy<3.8.0,>=3.7.2->en-core-web-sm==3.7.1) (1.21.5)\r\nRequirement already satisfied: spacy-legacy<3.1.0,>=3.0.11 in /local_disk0/.ephemeral_nfs/envs/pythonEnv-65e6e14c-63dd-40c1-831f-7a9c3ed5fa4e/lib/python3.9/site-packages (from spacy<3.8.0,>=3.7.2->en-core-web-sm==3.7.1) (3.0.12)\r\nRequirement already satisfied: catalogue<2.1.0,>=2.0.6 in /local_disk0/.ephemeral_nfs/envs/pythonEnv-65e6e14c-63dd-40c1-831f-7a9c3ed5fa4e/lib/python3.9/site-packages (from spacy<3.8.0,>=3.7.2->en-core-web-sm==3.7.1) (2.0.10)\r\nRequirement already satisfied: setuptools in /databricks/python3/lib/python3.9/site-packages (from spacy<3.8.0,>=3.7.2->en-core-web-sm==3.7.1) (61.2.0)\r\nRequirement already satisfied: typer<1.0.0,>=0.3.0 in /local_disk0/.ephemeral_nfs/envs/pythonEnv-65e6e14c-63dd-40c1-831f-7a9c3ed5fa4e/lib/python3.9/site-packages (from spacy<3.8.0,>=3.7.2->en-core-web-sm==3.7.1) (0.12.5)\r\nRequirement already satisfied: murmurhash<1.1.0,>=0.28.0 in /local_disk0/.ephemeral_nfs/envs/pythonEnv-65e6e14c-63dd-40c1-831f-7a9c3ed5fa4e/lib/python3.9/site-packages (from spacy<3.8.0,>=3.7.2->en-core-web-sm==3.7.1) (1.0.10)\r\nRequirement already satisfied: packaging>=20.0 in /databricks/python3/lib/python3.9/site-packages (from spacy<3.8.0,>=3.7.2->en-core-web-sm==3.7.1) (21.3)\r\nRequirement already satisfied: cymem<2.1.0,>=2.0.2 in /local_disk0/.ephemeral_nfs/envs/pythonEnv-65e6e14c-63dd-40c1-831f-7a9c3ed5fa4e/lib/python3.9/site-packages (from spacy<3.8.0,>=3.7.2->en-core-web-sm==3.7.1) (2.0.8)\r\nRequirement already satisfied: thinc<8.3.0,>=8.2.2 in /local_disk0/.ephemeral_nfs/envs/pythonEnv-65e6e14c-63dd-40c1-831f-7a9c3ed5fa4e/lib/python3.9/site-packages (from spacy<3.8.0,>=3.7.2->en-core-web-sm==3.7.1) (8.2.5)\r\nRequirement already satisfied: requests<3.0.0,>=2.13.0 in /databricks/python3/lib/python3.9/site-packages (from spacy<3.8.0,>=3.7.2->en-core-web-sm==3.7.1) (2.27.1)\r\nRequirement already satisfied: preshed<3.1.0,>=3.0.2 in /local_disk0/.ephemeral_nfs/envs/pythonEnv-65e6e14c-63dd-40c1-831f-7a9c3ed5fa4e/lib/python3.9/site-packages (from spacy<3.8.0,>=3.7.2->en-core-web-sm==3.7.1) (3.0.9)\r\nRequirement already satisfied: weasel<0.5.0,>=0.1.0 in /local_disk0/.ephemeral_nfs/envs/pythonEnv-65e6e14c-63dd-40c1-831f-7a9c3ed5fa4e/lib/python3.9/site-packages (from spacy<3.8.0,>=3.7.2->en-core-web-sm==3.7.1) (0.4.1)\r\nRequirement already satisfied: tqdm<5.0.0,>=4.38.0 in /local_disk0/.ephemeral_nfs/envs/pythonEnv-65e6e14c-63dd-40c1-831f-7a9c3ed5fa4e/lib/python3.9/site-packages (from spacy<3.8.0,>=3.7.2->en-core-web-sm==3.7.1) (4.66.5)\r\nRequirement already satisfied: srsly<3.0.0,>=2.4.3 in /local_disk0/.ephemeral_nfs/envs/pythonEnv-65e6e14c-63dd-40c1-831f-7a9c3ed5fa4e/lib/python3.9/site-packages (from spacy<3.8.0,>=3.7.2->en-core-web-sm==3.7.1) (2.4.8)\r\nRequirement already satisfied: pydantic!=1.8,!=1.8.1,<3.0.0,>=1.7.4 in /local_disk0/.ephemeral_nfs/envs/pythonEnv-65e6e14c-63dd-40c1-831f-7a9c3ed5fa4e/lib/python3.9/site-packages (from spacy<3.8.0,>=3.7.2->en-core-web-sm==3.7.1) (2.9.1)\r\nRequirement already satisfied: langcodes<4.0.0,>=3.2.0 in /local_disk0/.ephemeral_nfs/envs/pythonEnv-65e6e14c-63dd-40c1-831f-7a9c3ed5fa4e/lib/python3.9/site-packages (from spacy<3.8.0,>=3.7.2->en-core-web-sm==3.7.1) (3.4.0)\r\nRequirement already satisfied: spacy-loggers<2.0.0,>=1.0.0 in /local_disk0/.ephemeral_nfs/envs/pythonEnv-65e6e14c-63dd-40c1-831f-7a9c3ed5fa4e/lib/python3.9/site-packages (from spacy<3.8.0,>=3.7.2->en-core-web-sm==3.7.1) (1.0.5)\r\nRequirement already satisfied: wasabi<1.2.0,>=0.9.1 in /local_disk0/.ephemeral_nfs/envs/pythonEnv-65e6e14c-63dd-40c1-831f-7a9c3ed5fa4e/lib/python3.9/site-packages (from spacy<3.8.0,>=3.7.2->en-core-web-sm==3.7.1) (1.1.3)\r\nRequirement already satisfied: jinja2 in /databricks/python3/lib/python3.9/site-packages (from spacy<3.8.0,>=3.7.2->en-core-web-sm==3.7.1) (2.11.3)\r\nRequirement already satisfied: language-data>=1.2 in /local_disk0/.ephemeral_nfs/envs/pythonEnv-65e6e14c-63dd-40c1-831f-7a9c3ed5fa4e/lib/python3.9/site-packages (from langcodes<4.0.0,>=3.2.0->spacy<3.8.0,>=3.7.2->en-core-web-sm==3.7.1) (1.2.0)\r\nRequirement already satisfied: marisa-trie>=0.7.7 in /local_disk0/.ephemeral_nfs/envs/pythonEnv-65e6e14c-63dd-40c1-831f-7a9c3ed5fa4e/lib/python3.9/site-packages (from language-data>=1.2->langcodes<4.0.0,>=3.2.0->spacy<3.8.0,>=3.7.2->en-core-web-sm==3.7.1) (1.2.0)\r\nRequirement already satisfied: pyparsing!=3.0.5,>=2.0.2 in /databricks/python3/lib/python3.9/site-packages (from packaging>=20.0->spacy<3.8.0,>=3.7.2->en-core-web-sm==3.7.1) (3.0.4)\r\nRequirement already satisfied: annotated-types>=0.6.0 in /local_disk0/.ephemeral_nfs/envs/pythonEnv-65e6e14c-63dd-40c1-831f-7a9c3ed5fa4e/lib/python3.9/site-packages (from pydantic!=1.8,!=1.8.1,<3.0.0,>=1.7.4->spacy<3.8.0,>=3.7.2->en-core-web-sm==3.7.1) (0.7.0)\r\nRequirement already satisfied: typing-extensions>=4.6.1 in /local_disk0/.ephemeral_nfs/envs/pythonEnv-65e6e14c-63dd-40c1-831f-7a9c3ed5fa4e/lib/python3.9/site-packages (from pydantic!=1.8,!=1.8.1,<3.0.0,>=1.7.4->spacy<3.8.0,>=3.7.2->en-core-web-sm==3.7.1) (4.12.2)\r\nRequirement already satisfied: pydantic-core==2.23.3 in /local_disk0/.ephemeral_nfs/envs/pythonEnv-65e6e14c-63dd-40c1-831f-7a9c3ed5fa4e/lib/python3.9/site-packages (from pydantic!=1.8,!=1.8.1,<3.0.0,>=1.7.4->spacy<3.8.0,>=3.7.2->en-core-web-sm==3.7.1) (2.23.3)\r\nRequirement already satisfied: charset-normalizer~=2.0.0 in /databricks/python3/lib/python3.9/site-packages (from requests<3.0.0,>=2.13.0->spacy<3.8.0,>=3.7.2->en-core-web-sm==3.7.1) (2.0.4)\r\nRequirement already satisfied: idna<4,>=2.5 in /databricks/python3/lib/python3.9/site-packages (from requests<3.0.0,>=2.13.0->spacy<3.8.0,>=3.7.2->en-core-web-sm==3.7.1) (3.3)\r\nRequirement already satisfied: certifi>=2017.4.17 in /databricks/python3/lib/python3.9/site-packages (from requests<3.0.0,>=2.13.0->spacy<3.8.0,>=3.7.2->en-core-web-sm==3.7.1) (2021.10.8)\r\nRequirement already satisfied: urllib3<1.27,>=1.21.1 in /databricks/python3/lib/python3.9/site-packages (from requests<3.0.0,>=2.13.0->spacy<3.8.0,>=3.7.2->en-core-web-sm==3.7.1) (1.26.9)\r\nRequirement already satisfied: blis<0.8.0,>=0.7.8 in /local_disk0/.ephemeral_nfs/envs/pythonEnv-65e6e14c-63dd-40c1-831f-7a9c3ed5fa4e/lib/python3.9/site-packages (from thinc<8.3.0,>=8.2.2->spacy<3.8.0,>=3.7.2->en-core-web-sm==3.7.1) (0.7.11)\r\nRequirement already satisfied: confection<1.0.0,>=0.0.1 in /local_disk0/.ephemeral_nfs/envs/pythonEnv-65e6e14c-63dd-40c1-831f-7a9c3ed5fa4e/lib/python3.9/site-packages (from thinc<8.3.0,>=8.2.2->spacy<3.8.0,>=3.7.2->en-core-web-sm==3.7.1) (0.1.5)\r\nRequirement already satisfied: rich>=10.11.0 in /local_disk0/.ephemeral_nfs/envs/pythonEnv-65e6e14c-63dd-40c1-831f-7a9c3ed5fa4e/lib/python3.9/site-packages (from typer<1.0.0,>=0.3.0->spacy<3.8.0,>=3.7.2->en-core-web-sm==3.7.1) (13.8.1)\r\nRequirement already satisfied: click>=8.0.0 in /databricks/python3/lib/python3.9/site-packages (from typer<1.0.0,>=0.3.0->spacy<3.8.0,>=3.7.2->en-core-web-sm==3.7.1) (8.0.4)\r\nRequirement already satisfied: shellingham>=1.3.0 in /local_disk0/.ephemeral_nfs/envs/pythonEnv-65e6e14c-63dd-40c1-831f-7a9c3ed5fa4e/lib/python3.9/site-packages (from typer<1.0.0,>=0.3.0->spacy<3.8.0,>=3.7.2->en-core-web-sm==3.7.1) (1.5.4)\r\nRequirement already satisfied: pygments<3.0.0,>=2.13.0 in /local_disk0/.ephemeral_nfs/envs/pythonEnv-65e6e14c-63dd-40c1-831f-7a9c3ed5fa4e/lib/python3.9/site-packages (from rich>=10.11.0->typer<1.0.0,>=0.3.0->spacy<3.8.0,>=3.7.2->en-core-web-sm==3.7.1) (2.18.0)\r\nRequirement already satisfied: markdown-it-py>=2.2.0 in /local_disk0/.ephemeral_nfs/envs/pythonEnv-65e6e14c-63dd-40c1-831f-7a9c3ed5fa4e/lib/python3.9/site-packages (from rich>=10.11.0->typer<1.0.0,>=0.3.0->spacy<3.8.0,>=3.7.2->en-core-web-sm==3.7.1) (3.0.0)\r\nRequirement already satisfied: mdurl~=0.1 in /local_disk0/.ephemeral_nfs/envs/pythonEnv-65e6e14c-63dd-40c1-831f-7a9c3ed5fa4e/lib/python3.9/site-packages (from markdown-it-py>=2.2.0->rich>=10.11.0->typer<1.0.0,>=0.3.0->spacy<3.8.0,>=3.7.2->en-core-web-sm==3.7.1) (0.1.2)\r\nRequirement already satisfied: smart-open<8.0.0,>=5.2.1 in /local_disk0/.ephemeral_nfs/envs/pythonEnv-65e6e14c-63dd-40c1-831f-7a9c3ed5fa4e/lib/python3.9/site-packages (from weasel<0.5.0,>=0.1.0->spacy<3.8.0,>=3.7.2->en-core-web-sm==3.7.1) (7.0.4)\r\nRequirement already satisfied: cloudpathlib<1.0.0,>=0.7.0 in /local_disk0/.ephemeral_nfs/envs/pythonEnv-65e6e14c-63dd-40c1-831f-7a9c3ed5fa4e/lib/python3.9/site-packages (from weasel<0.5.0,>=0.1.0->spacy<3.8.0,>=3.7.2->en-core-web-sm==3.7.1) (0.19.0)\r\nRequirement already satisfied: wrapt in /local_disk0/.ephemeral_nfs/envs/pythonEnv-65e6e14c-63dd-40c1-831f-7a9c3ed5fa4e/lib/python3.9/site-packages (from smart-open<8.0.0,>=5.2.1->weasel<0.5.0,>=0.1.0->spacy<3.8.0,>=3.7.2->en-core-web-sm==3.7.1) (1.16.0)\r\nRequirement already satisfied: MarkupSafe>=0.23 in /databricks/python3/lib/python3.9/site-packages (from jinja2->spacy<3.8.0,>=3.7.2->en-core-web-sm==3.7.1) (2.0.1)\r\nInstalling collected packages: en-core-web-sm\r\nSuccessfully installed en-core-web-sm-3.7.1\r\n\u001B[33mWARNING: You are using pip version 21.2.4; however, version 24.2 is available.\r\nYou should consider upgrading via the '/local_disk0/.ephemeral_nfs/envs/pythonEnv-65e6e14c-63dd-40c1-831f-7a9c3ed5fa4e/bin/python -m pip install --upgrade pip' command.\u001B[0m\r\n\u001B[38;5;2m✔ Download and installation successful\u001B[0m\r\nYou can now load the package via spacy.load('en_core_web_sm')\r\n"
     ]
    }
   ],
   "source": [
    "!python -m spacy download en_core_web_sm "
   ]
  },
  {
   "cell_type": "markdown",
   "metadata": {
    "application/vnd.databricks.v1+cell": {
     "cellMetadata": {},
     "inputWidgets": {},
     "nuid": "2733cad3-b3de-4fa7-8323-7d8a5aca1ec2",
     "showTitle": false,
     "title": ""
    }
   },
   "source": [
    "# Loading plot summaries and processing it"
   ]
  },
  {
   "cell_type": "code",
   "execution_count": 0,
   "metadata": {
    "application/vnd.databricks.v1+cell": {
     "cellMetadata": {
      "byteLimit": 2048000,
      "rowLimit": 10000
     },
     "inputWidgets": {},
     "nuid": "f3230f57-2718-4e36-b37c-4117f87bb139",
     "showTitle": false,
     "title": ""
    }
   },
   "outputs": [],
   "source": [
    "plot_summaries = sc.textFile('dbfs:/FileStore/tables/plot_summaries.txt') "
   ]
  },
  {
   "cell_type": "code",
   "execution_count": 0,
   "metadata": {
    "application/vnd.databricks.v1+cell": {
     "cellMetadata": {
      "byteLimit": 2048000,
      "rowLimit": 10000
     },
     "collapsed": true,
     "inputWidgets": {},
     "nuid": "c6d0a2dd-d570-4402-85f4-c030b76acc1c",
     "showTitle": false,
     "title": ""
    }
   },
   "outputs": [
    {
     "output_type": "stream",
     "name": "stdout",
     "output_type": "stream",
     "text": [
      "Out[4]: [\"23890098\\tShlykov, a hard-working taxi driver and Lyosha, a saxophonist, develop a bizarre love-hate relationship, and despite their prejudices, realize they aren't so different after all.\",\n '31186339\\tThe nation of Panem consists of a wealthy Capitol and twelve poorer districts. As punishment for a past rebellion, each district must provide a boy and girl  between the ages of 12 and 18 selected by lottery  for the annual Hunger Games. The tributes must fight to the death in an arena; the sole survivor is rewarded with fame and wealth. In her first Reaping, 12-year-old Primrose Everdeen is chosen from District 12. Her older sister Katniss volunteers to take her place. Peeta Mellark, a baker\\'s son who once gave Katniss bread when she was starving, is the other District 12 tribute. Katniss and Peeta are taken to the Capitol, accompanied by their frequently drunk mentor, past victor Haymitch Abernathy. He warns them about the \"Career\" tributes who train intensively at special academies and almost always win. During a TV interview with Caesar Flickerman, Peeta unexpectedly reveals his love for Katniss. She is outraged, believing it to be a ploy to gain audience support, as \"sponsors\" may provide in-Games gifts of food, medicine, and tools. However, she discovers Peeta meant what he said. The televised Games begin with half of the tributes killed in the first few minutes; Katniss barely survives ignoring Haymitch\\'s advice to run away from the melee over the tempting supplies and weapons strewn in front of a structure called the Cornucopia. Peeta forms an uneasy alliance with the four Careers. They later find Katniss and corner her up a tree. Rue, hiding in a nearby tree, draws her attention to a poisonous tracker jacker nest hanging from a branch. Katniss drops it on her sleeping besiegers. They all scatter, except for Glimmer, who is killed by the insects. Hallucinating due to tracker jacker venom, Katniss is warned to run away by Peeta. Rue cares for Katniss for a couple of days until she recovers. Meanwhile, the alliance has gathered all the supplies into a pile. Katniss has Rue draw them off, then destroys the stockpile by setting off the mines planted around it. Furious, Cato kills the boy assigned to guard it. As Katniss runs from the scene, she hears Rue calling her name. She finds Rue trapped and releases her. Marvel, a tribute from District 1, throws a spear at Katniss, but she dodges the spear, causing it to stab Rue in the stomach instead. Katniss shoots him dead with an arrow. She then comforts the dying Rue with a song. Afterward, she gathers and arranges flowers around Rue\\'s body. When this is televised, it sparks a riot in Rue\\'s District 11. President Snow summons Seneca Crane, the Gamemaker, to express his displeasure at the way the Games are turning out. Since Katniss and Peeta have been presented to the public as \"star-crossed lovers\", Haymitch is able to convince Crane to make a rule change to avoid inciting further riots. It is announced that tributes from the same district can win as a pair. Upon hearing this, Katniss searches for Peeta and finds him with an infected sword wound in the leg. She portrays herself as deeply in love with him and gains a sponsor\\'s gift of soup. An announcer proclaims a feast, where the thing each survivor needs most will be provided. Peeta begs her not to risk getting him medicine. Katniss promises not to go, but after he falls asleep, she heads to the feast. Clove ambushes her and pins her down. As Clove gloats, Thresh, the other District 11 tribute, kills Clove after overhearing her tormenting Katniss about killing Rue. He spares Katniss \"just this time...for Rue\". The medicine works, keeping Peeta mobile. Foxface, the girl from District 5, dies from eating nightlock berries she stole from Peeta; neither knew they are highly poisonous. Crane changes the time of day in the arena to late at night and unleashes a pack of hound-like creatures to speed things up. They kill Thresh and force Katniss and Peeta to flee to the roof of the Cornucopia, where they encounter Cato. After a battle, Katniss wounds Cato with an arrow and Peeta hurls him to the creatures below. Katniss shoots Cato to spare him a prolonged death. With Peeta and Katniss apparently victorious, the rule change allowing two winners is suddenly revoked. Peeta tells Katniss to shoot him. Instead, she gives him half of the nightlock. However, before they can commit suicide, they are hastily proclaimed the victors of the 74th Hunger Games. Haymitch warns Katniss that she has made powerful enemies after her display of defiance. She and Peeta return to District 12, while Crane is locked in a room with a bowl of nightlock berries, and President Snow considers the situation.']"
     ]
    }
   ],
   "source": [
    "plot_summaries.take(2)"
   ]
  },
  {
   "cell_type": "code",
   "execution_count": 0,
   "metadata": {
    "application/vnd.databricks.v1+cell": {
     "cellMetadata": {
      "byteLimit": 2048000,
      "rowLimit": 10000
     },
     "inputWidgets": {},
     "nuid": "803284c6-5e92-47b6-bbb5-2deddca8d2cf",
     "showTitle": false,
     "title": ""
    }
   },
   "outputs": [],
   "source": [
    "plot_summaries_by_id = plot_summaries.map(lambda x: (x.split('\\t')[0], x.split('\\t')[1]))"
   ]
  },
  {
   "cell_type": "code",
   "execution_count": 0,
   "metadata": {
    "application/vnd.databricks.v1+cell": {
     "cellMetadata": {
      "byteLimit": 2048000,
      "rowLimit": 10000
     },
     "collapsed": true,
     "inputWidgets": {},
     "nuid": "2c628447-b2cd-4247-9295-1c31caf8168b",
     "showTitle": false,
     "title": ""
    }
   },
   "outputs": [
    {
     "output_type": "stream",
     "name": "stdout",
     "output_type": "stream",
     "text": [
      "Out[6]: [('23890098',\n  \"Shlykov, a hard-working taxi driver and Lyosha, a saxophonist, develop a bizarre love-hate relationship, and despite their prejudices, realize they aren't so different after all.\"),\n ('31186339',\n  'The nation of Panem consists of a wealthy Capitol and twelve poorer districts. As punishment for a past rebellion, each district must provide a boy and girl  between the ages of 12 and 18 selected by lottery  for the annual Hunger Games. The tributes must fight to the death in an arena; the sole survivor is rewarded with fame and wealth. In her first Reaping, 12-year-old Primrose Everdeen is chosen from District 12. Her older sister Katniss volunteers to take her place. Peeta Mellark, a baker\\'s son who once gave Katniss bread when she was starving, is the other District 12 tribute. Katniss and Peeta are taken to the Capitol, accompanied by their frequently drunk mentor, past victor Haymitch Abernathy. He warns them about the \"Career\" tributes who train intensively at special academies and almost always win. During a TV interview with Caesar Flickerman, Peeta unexpectedly reveals his love for Katniss. She is outraged, believing it to be a ploy to gain audience support, as \"sponsors\" may provide in-Games gifts of food, medicine, and tools. However, she discovers Peeta meant what he said. The televised Games begin with half of the tributes killed in the first few minutes; Katniss barely survives ignoring Haymitch\\'s advice to run away from the melee over the tempting supplies and weapons strewn in front of a structure called the Cornucopia. Peeta forms an uneasy alliance with the four Careers. They later find Katniss and corner her up a tree. Rue, hiding in a nearby tree, draws her attention to a poisonous tracker jacker nest hanging from a branch. Katniss drops it on her sleeping besiegers. They all scatter, except for Glimmer, who is killed by the insects. Hallucinating due to tracker jacker venom, Katniss is warned to run away by Peeta. Rue cares for Katniss for a couple of days until she recovers. Meanwhile, the alliance has gathered all the supplies into a pile. Katniss has Rue draw them off, then destroys the stockpile by setting off the mines planted around it. Furious, Cato kills the boy assigned to guard it. As Katniss runs from the scene, she hears Rue calling her name. She finds Rue trapped and releases her. Marvel, a tribute from District 1, throws a spear at Katniss, but she dodges the spear, causing it to stab Rue in the stomach instead. Katniss shoots him dead with an arrow. She then comforts the dying Rue with a song. Afterward, she gathers and arranges flowers around Rue\\'s body. When this is televised, it sparks a riot in Rue\\'s District 11. President Snow summons Seneca Crane, the Gamemaker, to express his displeasure at the way the Games are turning out. Since Katniss and Peeta have been presented to the public as \"star-crossed lovers\", Haymitch is able to convince Crane to make a rule change to avoid inciting further riots. It is announced that tributes from the same district can win as a pair. Upon hearing this, Katniss searches for Peeta and finds him with an infected sword wound in the leg. She portrays herself as deeply in love with him and gains a sponsor\\'s gift of soup. An announcer proclaims a feast, where the thing each survivor needs most will be provided. Peeta begs her not to risk getting him medicine. Katniss promises not to go, but after he falls asleep, she heads to the feast. Clove ambushes her and pins her down. As Clove gloats, Thresh, the other District 11 tribute, kills Clove after overhearing her tormenting Katniss about killing Rue. He spares Katniss \"just this time...for Rue\". The medicine works, keeping Peeta mobile. Foxface, the girl from District 5, dies from eating nightlock berries she stole from Peeta; neither knew they are highly poisonous. Crane changes the time of day in the arena to late at night and unleashes a pack of hound-like creatures to speed things up. They kill Thresh and force Katniss and Peeta to flee to the roof of the Cornucopia, where they encounter Cato. After a battle, Katniss wounds Cato with an arrow and Peeta hurls him to the creatures below. Katniss shoots Cato to spare him a prolonged death. With Peeta and Katniss apparently victorious, the rule change allowing two winners is suddenly revoked. Peeta tells Katniss to shoot him. Instead, she gives him half of the nightlock. However, before they can commit suicide, they are hastily proclaimed the victors of the 74th Hunger Games. Haymitch warns Katniss that she has made powerful enemies after her display of defiance. She and Peeta return to District 12, while Crane is locked in a room with a bowl of nightlock berries, and President Snow considers the situation.'),\n ('20663735',\n  \"Poovalli Induchoodan  is sentenced for six years prison life for murdering his classmate. Induchoodan, the only son of Justice Maranchery Karunakara Menon  was framed in the case by Manapally Madhavan Nambiar  and his crony DYSP Sankaranarayanan  to take revenge on idealist judge Menon who had earlier given jail sentence to Manapally in a corruption case. Induchoodan, who had achieved top rank in Indian Civil Service loses the post and Manapally Sudheeran ([[Saikumar  enters the list of civil service trainees. We learn in flashback that it was Ramakrishnan  the son of Moopil Nair , who had actually killed his classmate. Six years passes by and Manapally Madhavan Nambiar, now a former state minister, is dead and Induchoodan, who is all rage at the gross injustice meted out to him - thus destroying his promising life, is released from prison. Induchoodan thwarts Manapally Pavithran  from performing the funeral rituals of Nambiar at Bharathapuzha. Many confrontations between Induchoodan and Manapally's henchmen follow. Induchoodan also falls in love with Anuradha ([[Aishwarya , the strong-willed and independent-minded daughter of Mooppil Nair. Justice Menon and his wife returns back to Kerala to stay with Induchoodan. There is an appearance of a girl named Indulekha ([[Kanaka , who claims to be the daughter of Justice Menon. Menon flatly refuses the claim and banishes her. Forced by circumstances and at the instigation and help of Manapally Pavithran, she reluctantly come out open with the claim. Induchoodan at first thrashes the protesters. But upon knowing the truth from Chandrabhanu his uncle, he accepts the task of her protection in the capacity as elder brother. Induchoodan decides to marry off Indulekha to his good friend Jayakrishnan . Induchoodan has a confrontation with his father and prods him to accept mistake and acknowledge the parentage of Indulekha. Menon ultimately regrets and goes on to confess to his daughter. The very next day, when Induchoodan returns to Poovally, Indulekha is found dead and Menon is accused of murdering her. The whole act was planned by Pavithran, who after killing Indulekha, forces Raman Nair  to testify against Menon in court. In court, Nandagopal Maarar , a close friend of Induchoodan and a famous supreme court lawyer, appears for Menon and manages to lay bare the murder plot and hidden intentions of other party . Menon is judged innocent of the crime by court. After confronting Pavithran and promising just retribution to the crime of killing Indulekha, Induchoodan returns to his father, who now shows remorse for all his actions including not believing in the innocence of his son. But while speaking to Induchoodan, Menon suffers a heart stroke and passes away. At Menon's funeral, Manapally Pavithran arrives to poke fun at Induchoodan and he also tries to carry out the postponed last rituals of his own father. Induchoodan interrupts the ritual and avenges for the death of his sister and father by severely injuring Pavithran. On his way back to peaceful life, Induchoodan accepts Anuradha as his life partner.\")]"
     ]
    }
   ],
   "source": [
    "plot_summaries_by_id.take(3)"
   ]
  },
  {
   "cell_type": "markdown",
   "metadata": {
    "application/vnd.databricks.v1+cell": {
     "cellMetadata": {},
     "inputWidgets": {},
     "nuid": "7c453de9-0f05-419d-a9f9-c4a83cf8c8d7",
     "showTitle": false,
     "title": ""
    }
   },
   "source": [
    "## Removing Stop words"
   ]
  },
  {
   "cell_type": "code",
   "execution_count": 0,
   "metadata": {
    "application/vnd.databricks.v1+cell": {
     "cellMetadata": {
      "byteLimit": 2048000,
      "rowLimit": 10000
     },
     "inputWidgets": {},
     "nuid": "c3db8567-ab67-44e6-82de-0d2c7c0ded14",
     "showTitle": false,
     "title": ""
    }
   },
   "outputs": [],
   "source": [
    "# Import library\n",
    "import spacy\n",
    "\n",
    "# Load the language model\n",
    "nlp = spacy.load(\"en_core_web_sm\")"
   ]
  },
  {
   "cell_type": "code",
   "execution_count": 0,
   "metadata": {
    "application/vnd.databricks.v1+cell": {
     "cellMetadata": {
      "byteLimit": 2048000,
      "rowLimit": 10000
     },
     "inputWidgets": {},
     "nuid": "57dd4b13-55ec-418c-a468-c1fec6367ea7",
     "showTitle": false,
     "title": ""
    }
   },
   "outputs": [],
   "source": [
    "import string"
   ]
  },
  {
   "cell_type": "code",
   "execution_count": 0,
   "metadata": {
    "application/vnd.databricks.v1+cell": {
     "cellMetadata": {
      "byteLimit": 2048000,
      "rowLimit": 10000
     },
     "inputWidgets": {},
     "nuid": "a3d430ca-50d1-42ba-94c2-a2e06b391ca3",
     "showTitle": false,
     "title": ""
    }
   },
   "outputs": [],
   "source": [
    "# removing stop words, punctuations and spaces\n",
    "nonstop_summaries = plot_summaries_by_id.map(lambda x: (x[0], [token.text for token in nlp(x[1]) if not token.is_stop and token.text not in string.punctuation and token.text!=' ']))"
   ]
  },
  {
   "cell_type": "code",
   "execution_count": 0,
   "metadata": {
    "application/vnd.databricks.v1+cell": {
     "cellMetadata": {
      "byteLimit": 2048000,
      "rowLimit": 10000
     },
     "inputWidgets": {},
     "nuid": "43ce082e-46ff-41b7-916a-83f40a3f3d93",
     "showTitle": false,
     "title": ""
    }
   },
   "outputs": [
    {
     "output_type": "stream",
     "name": "stdout",
     "output_type": "stream",
     "text": [
      "Out[19]: [('23890098',\n  ['Shlykov',\n   'hard',\n   'working',\n   'taxi',\n   'driver',\n   'Lyosha',\n   'saxophonist',\n   'develop',\n   'bizarre',\n   'love',\n   'hate',\n   'relationship',\n   'despite',\n   'prejudices',\n   'realize',\n   'different']),\n ('31186339',\n  ['nation',\n   'Panem',\n   'consists',\n   'wealthy',\n   'Capitol',\n   'poorer',\n   'districts',\n   'punishment',\n   'past',\n   'rebellion',\n   'district',\n   'provide',\n   'boy',\n   'girl',\n   'ages',\n   '12',\n   '18',\n   'selected',\n   'lottery',\n   'annual',\n   'Hunger',\n   'Games',\n   'tributes',\n   'fight',\n   'death',\n   'arena',\n   'sole',\n   'survivor',\n   'rewarded',\n   'fame',\n   'wealth',\n   'Reaping',\n   '12',\n   'year',\n   'old',\n   'Primrose',\n   'Everdeen',\n   'chosen',\n   'District',\n   '12',\n   'older',\n   'sister',\n   'Katniss',\n   'volunteers',\n   'place',\n   'Peeta',\n   'Mellark',\n   'baker',\n   'son',\n   'gave',\n   'Katniss',\n   'bread',\n   'starving',\n   'District',\n   '12',\n   'tribute',\n   'Katniss',\n   'Peeta',\n   'taken',\n   'Capitol',\n   'accompanied',\n   'frequently',\n   'drunk',\n   'mentor',\n   'past',\n   'victor',\n   'Haymitch',\n   'Abernathy',\n   'warns',\n   'Career',\n   'tributes',\n   'train',\n   'intensively',\n   'special',\n   'academies',\n   'win',\n   'TV',\n   'interview',\n   'Caesar',\n   'Flickerman',\n   'Peeta',\n   'unexpectedly',\n   'reveals',\n   'love',\n   'Katniss',\n   'outraged',\n   'believing',\n   'ploy',\n   'gain',\n   'audience',\n   'support',\n   'sponsors',\n   'provide',\n   'Games',\n   'gifts',\n   'food',\n   'medicine',\n   'tools',\n   'discovers',\n   'Peeta',\n   'meant',\n   'said',\n   'televised',\n   'Games',\n   'begin',\n   'half',\n   'tributes',\n   'killed',\n   'minutes',\n   'Katniss',\n   'barely',\n   'survives',\n   'ignoring',\n   'Haymitch',\n   'advice',\n   'run',\n   'away',\n   'melee',\n   'tempting',\n   'supplies',\n   'weapons',\n   'strewn',\n   'structure',\n   'called',\n   'Cornucopia',\n   'Peeta',\n   'forms',\n   'uneasy',\n   'alliance',\n   'Careers',\n   'later',\n   'find',\n   'Katniss',\n   'corner',\n   'tree',\n   'Rue',\n   'hiding',\n   'nearby',\n   'tree',\n   'draws',\n   'attention',\n   'poisonous',\n   'tracker',\n   'jacker',\n   'nest',\n   'hanging',\n   'branch',\n   'Katniss',\n   'drops',\n   'sleeping',\n   'besiegers',\n   'scatter',\n   'Glimmer',\n   'killed',\n   'insects',\n   'Hallucinating',\n   'tracker',\n   'jacker',\n   'venom',\n   'Katniss',\n   'warned',\n   'run',\n   'away',\n   'Peeta',\n   'Rue',\n   'cares',\n   'Katniss',\n   'couple',\n   'days',\n   'recovers',\n   'alliance',\n   'gathered',\n   'supplies',\n   'pile',\n   'Katniss',\n   'Rue',\n   'draw',\n   'destroys',\n   'stockpile',\n   'setting',\n   'mines',\n   'planted',\n   'Furious',\n   'Cato',\n   'kills',\n   'boy',\n   'assigned',\n   'guard',\n   'Katniss',\n   'runs',\n   'scene',\n   'hears',\n   'Rue',\n   'calling',\n   'finds',\n   'Rue',\n   'trapped',\n   'releases',\n   'Marvel',\n   'tribute',\n   'District',\n   '1',\n   'throws',\n   'spear',\n   'Katniss',\n   'dodges',\n   'spear',\n   'causing',\n   'stab',\n   'Rue',\n   'stomach',\n   'instead',\n   'Katniss',\n   'shoots',\n   'dead',\n   'arrow',\n   'comforts',\n   'dying',\n   'Rue',\n   'song',\n   'Afterward',\n   'gathers',\n   'arranges',\n   'flowers',\n   'Rue',\n   'body',\n   'televised',\n   'sparks',\n   'riot',\n   'Rue',\n   'District',\n   '11',\n   'President',\n   'Snow',\n   'summons',\n   'Seneca',\n   'Crane',\n   'Gamemaker',\n   'express',\n   'displeasure',\n   'way',\n   'Games',\n   'turning',\n   'Katniss',\n   'Peeta',\n   'presented',\n   'public',\n   'star',\n   'crossed',\n   'lovers',\n   'Haymitch',\n   'able',\n   'convince',\n   'Crane',\n   'rule',\n   'change',\n   'avoid',\n   'inciting',\n   'riots',\n   'announced',\n   'tributes',\n   'district',\n   'win',\n   'pair',\n   'hearing',\n   'Katniss',\n   'searches',\n   'Peeta',\n   'finds',\n   'infected',\n   'sword',\n   'wound',\n   'leg',\n   'portrays',\n   'deeply',\n   'love',\n   'gains',\n   'sponsor',\n   'gift',\n   'soup',\n   'announcer',\n   'proclaims',\n   'feast',\n   'thing',\n   'survivor',\n   'needs',\n   'provided',\n   'Peeta',\n   'begs',\n   'risk',\n   'getting',\n   'medicine',\n   'Katniss',\n   'promises',\n   'falls',\n   'asleep',\n   'heads',\n   'feast',\n   'Clove',\n   'ambushes',\n   'pins',\n   'Clove',\n   'gloats',\n   'Thresh',\n   'District',\n   '11',\n   'tribute',\n   'kills',\n   'Clove',\n   'overhearing',\n   'tormenting',\n   'Katniss',\n   'killing',\n   'Rue',\n   'spares',\n   'Katniss',\n   'time',\n   '...',\n   'Rue',\n   'medicine',\n   'works',\n   'keeping',\n   'Peeta',\n   'mobile',\n   'Foxface',\n   'girl',\n   'District',\n   '5',\n   'dies',\n   'eating',\n   'nightlock',\n   'berries',\n   'stole',\n   'Peeta',\n   'knew',\n   'highly',\n   'poisonous',\n   'Crane',\n   'changes',\n   'time',\n   'day',\n   'arena',\n   'late',\n   'night',\n   'unleashes',\n   'pack',\n   'hound',\n   'like',\n   'creatures',\n   'speed',\n   'things',\n   'kill',\n   'Thresh',\n   'force',\n   'Katniss',\n   'Peeta',\n   'flee',\n   'roof',\n   'Cornucopia',\n   'encounter',\n   'Cato',\n   'battle',\n   'Katniss',\n   'wounds',\n   'Cato',\n   'arrow',\n   'Peeta',\n   'hurls',\n   'creatures',\n   'Katniss',\n   'shoots',\n   'Cato',\n   'spare',\n   'prolonged',\n   'death',\n   'Peeta',\n   'Katniss',\n   'apparently',\n   'victorious',\n   'rule',\n   'change',\n   'allowing',\n   'winners',\n   'suddenly',\n   'revoked',\n   'Peeta',\n   'tells',\n   'Katniss',\n   'shoot',\n   'Instead',\n   'gives',\n   'half',\n   'nightlock',\n   'commit',\n   'suicide',\n   'hastily',\n   'proclaimed',\n   'victors',\n   '74th',\n   'Hunger',\n   'Games',\n   'Haymitch',\n   'warns',\n   'Katniss',\n   'powerful',\n   'enemies',\n   'display',\n   'defiance',\n   'Peeta',\n   'return',\n   'District',\n   '12',\n   'Crane',\n   'locked',\n   'room',\n   'bowl',\n   'nightlock',\n   'berries',\n   'President',\n   'Snow',\n   'considers',\n   'situation'])]"
     ]
    }
   ],
   "source": [
    "nonstop_summaries.take(2)"
   ]
  },
  {
   "cell_type": "markdown",
   "metadata": {
    "application/vnd.databricks.v1+cell": {
     "cellMetadata": {},
     "inputWidgets": {},
     "nuid": "c35ef08f-c590-4092-8c03-fbca843e349e",
     "showTitle": false,
     "title": ""
    }
   },
   "source": [
    "## Calculating TF"
   ]
  },
  {
   "cell_type": "code",
   "execution_count": 0,
   "metadata": {
    "application/vnd.databricks.v1+cell": {
     "cellMetadata": {
      "byteLimit": 2048000,
      "rowLimit": 10000
     },
     "inputWidgets": {},
     "nuid": "21e9188d-996a-40be-9610-cbd6217c9d84",
     "showTitle": false,
     "title": ""
    }
   },
   "outputs": [],
   "source": [
    "# get the format ((doc_id, term),1)\n",
    "tf_keyVal = nonstop_summaries.flatMap(lambda x: [((x[0], term), 1) for term in x[1]]).reduceByKey(lambda x, y: x + y)"
   ]
  },
  {
   "cell_type": "markdown",
   "metadata": {
    "application/vnd.databricks.v1+cell": {
     "cellMetadata": {},
     "inputWidgets": {},
     "nuid": "e940679b-e443-44bf-a26d-4e6c391ffd97",
     "showTitle": false,
     "title": ""
    }
   },
   "source": [
    "Output will be like `[((123546, 'Shane'),4), ((423546, 'love'),5).....]`"
   ]
  },
  {
   "cell_type": "code",
   "execution_count": 0,
   "metadata": {
    "application/vnd.databricks.v1+cell": {
     "cellMetadata": {
      "byteLimit": 2048000,
      "rowLimit": 10000
     },
     "inputWidgets": {},
     "nuid": "c1b7e339-f054-476e-9b25-ad6d8a230300",
     "showTitle": false,
     "title": ""
    }
   },
   "outputs": [
    {
     "output_type": "stream",
     "name": "stdout",
     "output_type": "stream",
     "text": [
      "Out[22]: [(('31186339', 'arena'), 2), (('2462689', 'stunt'), 1)]"
     ]
    }
   ],
   "source": [
    "tf_keyVal.take(2)"
   ]
  },
  {
   "cell_type": "markdown",
   "metadata": {
    "application/vnd.databricks.v1+cell": {
     "cellMetadata": {},
     "inputWidgets": {},
     "nuid": "697da3e7-c149-494a-8f2b-ea28b99b3c61",
     "showTitle": false,
     "title": ""
    }
   },
   "source": [
    "## Calculating DF"
   ]
  },
  {
   "cell_type": "markdown",
   "metadata": {
    "application/vnd.databricks.v1+cell": {
     "cellMetadata": {},
     "inputWidgets": {},
     "nuid": "8d21af41-2ed9-473f-9662-138d65f4eea6",
     "showTitle": false,
     "title": ""
    }
   },
   "source": [
    "Working on getting the below format:\n",
    "$$(term_i, [ [(movie_j, tf_{i,j})], 1])$$"
   ]
  },
  {
   "cell_type": "code",
   "execution_count": 0,
   "metadata": {
    "application/vnd.databricks.v1+cell": {
     "cellMetadata": {
      "byteLimit": 2048000,
      "rowLimit": 10000
     },
     "inputWidgets": {},
     "nuid": "b8ac7185-d9d8-4a92-8015-edb7f89660d1",
     "showTitle": false,
     "title": ""
    }
   },
   "outputs": [],
   "source": [
    "idf_keyVal = tf_keyVal.map(lambda x: (x[0][1], [[(x[0][0], x[1])], 1]))"
   ]
  },
  {
   "cell_type": "markdown",
   "metadata": {
    "application/vnd.databricks.v1+cell": {
     "cellMetadata": {},
     "inputWidgets": {},
     "nuid": "c0b64cb1-8b75-4c86-a221-8ae3b215ad1d",
     "showTitle": false,
     "title": ""
    }
   },
   "source": [
    "To reduce is it in following format: $$(term_i, [[(movie_j, tf_{i,j}), (movie_{j+1}, tf_{i,j+1})....], df_i])$$"
   ]
  },
  {
   "cell_type": "code",
   "execution_count": 0,
   "metadata": {
    "application/vnd.databricks.v1+cell": {
     "cellMetadata": {
      "byteLimit": 2048000,
      "rowLimit": 10000
     },
     "inputWidgets": {},
     "nuid": "0934cef2-8419-4409-8f32-73cd1eac86c9",
     "showTitle": false,
     "title": ""
    }
   },
   "outputs": [],
   "source": [
    "tf_idf_keyVal = idf_keyVal.reduceByKey(lambda x, y: [x[0] + y[0], x[1] + y[1]])"
   ]
  },
  {
   "cell_type": "code",
   "execution_count": 0,
   "metadata": {
    "application/vnd.databricks.v1+cell": {
     "cellMetadata": {
      "byteLimit": 2048000,
      "rowLimit": 10000
     },
     "inputWidgets": {},
     "nuid": "1b932fb2-8a67-4f3f-9037-728cc8bf9af3",
     "showTitle": false,
     "title": ""
    }
   },
   "outputs": [
    {
     "output_type": "stream",
     "name": "stdout",
     "output_type": "stream",
     "text": [
      "Out[27]: [('unstable',\n  [[('1952976', 1),\n    ('1580851', 1),\n    ('1059701', 1),\n    ('25456956', 1),\n    ('11558326', 1),\n    ('25625475', 1),\n    ('3104623', 1),\n    ('14827680', 2),\n    ('1682270', 1),\n    ('2750304', 1),\n    ('17905510', 1),\n    ('28212637', 1),\n    ('24607608', 1),\n    ('1565282', 1),\n    ('5080406', 1),\n    ('31404359', 1),\n    ('22112974', 1),\n    ('34596327', 1),\n    ('26163439', 1),\n    ('19859820', 1),\n    ('28859296', 1),\n    ('1343517', 1),\n    ('536521', 1),\n    ('4348164', 1),\n    ('3418109', 1),\n    ('5743048', 1),\n    ('28697022', 1),\n    ('15530723', 1),\n    ('17687304', 1),\n    ('18664245', 1),\n    ('23199746', 2),\n    ('213472', 1),\n    ('20225956', 1),\n    ('183769', 1),\n    ('29836849', 1),\n    ('378213', 1),\n    ('3917891', 1),\n    ('2102508', 1),\n    ('5988879', 1),\n    ('32381897', 1),\n    ('26156614', 1),\n    ('6503761', 1),\n    ('2543730', 1),\n    ('34385739', 1),\n    ('23494455', 1),\n    ('226842', 1),\n    ('12757559', 1),\n    ('2359777', 1),\n    ('4969625', 1),\n    ('28577481', 1),\n    ('20365195', 1),\n    ('164387', 1),\n    ('4532800', 1),\n    ('21980093', 1),\n    ('2804211', 1),\n    ('11103867', 1),\n    ('6575053', 1),\n    ('12940547', 1),\n    ('25345231', 1),\n    ('1870643', 1),\n    ('311179', 1),\n    ('9229395', 1),\n    ('1858763', 1),\n    ('32144390', 1),\n    ('87983', 1),\n    ('6589209', 1),\n    ('31487737', 1),\n    ('2378208', 1),\n    ('617063', 1),\n    ('28436992', 1),\n    ('13325838', 1),\n    ('10576719', 1),\n    ('4971555', 1),\n    ('14864488', 1),\n    ('1637639', 1),\n    ('29420882', 1),\n    ('786972', 1),\n    ('1255098', 1),\n    ('23675899', 1),\n    ('2501824', 1),\n    ('3112223', 1),\n    ('25859284', 1),\n    ('9003163', 1),\n    ('32954280', 1),\n    ('28015079', 1),\n    ('13633284', 1),\n    ('15155743', 1),\n    ('1343628', 1),\n    ('26470648', 1),\n    ('32701112', 1),\n    ('5169883', 1),\n    ('11998913', 1),\n    ('1888433', 1),\n    ('16167785', 1),\n    ('46757', 1),\n    ('4607218', 1),\n    ('29845871', 1),\n    ('4180595', 1),\n    ('11335429', 2),\n    ('3616144', 1),\n    ('36359227', 1),\n    ('33922458', 1),\n    ('9652328', 1),\n    ('206879', 1),\n    ('4556411', 1),\n    ('16473441', 1),\n    ('144813', 1),\n    ('12947954', 1),\n    ('9337481', 1),\n    ('8060931', 1),\n    ('2341972', 1),\n    ('930143', 1),\n    ('14727790', 1),\n    ('24456623', 1),\n    ('12456666', 1),\n    ('6271212', 1),\n    ('19479460', 1),\n    ('31867069', 1),\n    ('1487312', 1),\n    ('33276254', 1),\n    ('24880336', 1),\n    ('75255', 1),\n    ('3096492', 1),\n    ('3813940', 1),\n    ('1892349', 1),\n    ('7733654', 1),\n    ('4944618', 1),\n    ('542547', 1),\n    ('35410351', 1),\n    ('5937490', 1),\n    ('7602265', 1),\n    ('24388866', 1),\n    ('13473620', 1),\n    ('2273470', 1),\n    ('447139', 1),\n    ('3821533', 1),\n    ('21127928', 1),\n    ('240357', 1),\n    ('30873849', 1),\n    ('13439704', 1),\n    ('5271413', 2),\n    ('10542206', 1),\n    ('25541925', 1),\n    ('2662367', 1),\n    ('17384281', 1),\n    ('26469128', 1),\n    ('2071080', 1),\n    ('7604698', 1),\n    ('14581235', 1),\n    ('15130405', 1),\n    ('4899791', 1),\n    ('13964642', 1),\n    ('10619079', 1),\n    ('612052', 1),\n    ('1809458', 1),\n    ('28442087', 1),\n    ('2465336', 1),\n    ('18627879', 1),\n    ('12978934', 1),\n    ('29365217', 1),\n    ('594815', 1),\n    ('8944549', 1),\n    ('30654425', 1),\n    ('18719326', 1),\n    ('27131059', 1),\n    ('23520145', 1),\n    ('6549044', 1),\n    ('2724834', 1),\n    ('15161999', 1),\n    ('18775322', 1),\n    ('24586901', 1),\n    ('11276518', 1),\n    ('18118843', 1),\n    ('1695219', 1),\n    ('376920', 1),\n    ('504242', 1),\n    ('11992', 1),\n    ('2271177', 1),\n    ('21545226', 1),\n    ('24438195', 1),\n    ('1008762', 1),\n    ('2236472', 1),\n    ('4276011', 2),\n    ('33427265', 1),\n    ('24903334', 1),\n    ('14616734', 1),\n    ('2198959', 2),\n    ('13939322', 1),\n    ('27954017', 1),\n    ('17947683', 1),\n    ('1373219', 1),\n    ('35501869', 1),\n    ('2370658', 1),\n    ('950929', 2),\n    ('5425205', 1),\n    ('28646399', 1),\n    ('1828138', 1),\n    ('4563943', 1),\n    ('3750194', 1),\n    ('770098', 1),\n    ('1336108', 1),\n    ('15828749', 1),\n    ('26612083', 1),\n    ('5789454', 1),\n    ('5804666', 1),\n    ('27872916', 1),\n    ('12181304', 1),\n    ('21755178', 1),\n    ('3050069', 1),\n    ('1968110', 1),\n    ('3762449', 1),\n    ('10004330', 1),\n    ('2705562', 1),\n    ('23620074', 1),\n    ('27097', 1),\n    ('15394431', 1),\n    ('9104215', 1),\n    ('10068581', 1),\n    ('6873331', 1),\n    ('9199781', 1),\n    ('9577427', 1),\n    ('17169953', 1),\n    ('18627809', 1),\n    ('11659396', 1),\n    ('10241319', 1),\n    ('2559570', 1),\n    ('2885391', 1),\n    ('12848514', 1),\n    ('342741', 1),\n    ('24504158', 1),\n    ('407591', 1),\n    ('2825438', 1),\n    ('9521170', 1),\n    ('6436552', 1),\n    ('6504302', 1),\n    ('25747315', 1),\n    ('12637837', 1),\n    ('10592638', 1),\n    ('2097338', 1),\n    ('3202250', 1),\n    ('9136608', 1),\n    ('29836847', 1),\n    ('26466092', 1),\n    ('18908881', 1),\n    ('6521673', 1),\n    ('20692099', 1),\n    ('10780993', 1),\n    ('17136700', 2),\n    ('20568687', 1),\n    ('15439159', 2),\n    ('3950291', 1),\n    ('3601408', 1),\n    ('11671400', 1),\n    ('18774910', 1),\n    ('781629', 1),\n    ('11140687', 1),\n    ('1411169', 1),\n    ('28075240', 1),\n    ('76040', 1),\n    ('27413062', 1),\n    ('8154771', 1),\n    ('11140631', 1),\n    ('31892161', 1)],\n   263]),\n ('share',\n  [[('24225279', 1),\n    ('9574727', 1),\n    ('352795', 1),\n    ('14348806', 1),\n    ('4152250', 1),\n    ('3811830', 1),\n    ('1305939', 1),\n    ('3783131', 1),\n    ('2216309', 1),\n    ('6277939', 1),\n    ('23934336', 2),\n    ('14706880', 1),\n    ('9943176', 1),\n    ('19187224', 1),\n    ('2372920', 1),\n    ('1519783', 1),\n    ('26072991', 1),\n    ('23266073', 1),\n    ('18158404', 1),\n    ('23606024', 1),\n    ('10992573', 1),\n    ('34043061', 1),\n    ('11589635', 2),\n    ('26208121', 1),\n    ('33774863', 1),\n    ('5033651', 1),\n    ('23410614', 1),\n    ('12319656', 1),\n    ('9901123', 1),\n    ('1131832', 1),\n    ('24652331', 1),\n    ('1246394', 1),\n    ('236793', 2),\n    ('13023421', 2),\n    ('8658177', 1),\n    ('32573143', 1),\n    ('16782', 1),\n    ('11373575', 1),\n    ('4836572', 2),\n    ('733213', 1),\n    ('9107230', 1),\n    ('35230042', 1),\n    ('18376449', 1),\n    ('15518145', 1),\n    ('8272738', 1),\n    ('1078863', 1),\n    ('30984495', 1),\n    ('26861668', 1),\n    ('5295514', 1),\n    ('26588184', 1),\n    ('33042258', 1),\n    ('1369060', 2),\n    ('4940876', 1),\n    ('6432572', 3),\n    ('7845053', 1),\n    ('12256912', 1),\n    ('15569761', 1),\n    ('1492011', 1),\n    ('22324733', 1),\n    ('32864632', 1),\n    ('21487707', 1),\n    ('3863665', 1),\n    ('916576', 1),\n    ('28620465', 1),\n    ('328284', 1),\n    ('16964329', 1),\n    ('1346428', 2),\n    ('5698271', 1),\n    ('33167476', 1),\n    ('24837554', 1),\n    ('12568590', 1),\n    ('6069135', 1),\n    ('4829422', 1),\n    ('26349729', 1),\n    ('10628838', 1),\n    ('6542034', 1),\n    ('30332098', 1),\n    ('16348127', 1),\n    ('29121790', 1),\n    ('28559151', 1),\n    ('34361583', 1),\n    ('22899710', 2),\n    ('9325204', 1),\n    ('2853254', 1),\n    ('12307993', 1),\n    ('20797710', 1),\n    ('27792643', 1),\n    ('2236324', 1),\n    ('9239665', 1),\n    ('6943287', 1),\n    ('5876575', 1),\n    ('1434574', 1),\n    ('31532443', 1),\n    ('4572965', 1),\n    ('2396574', 1),\n    ('4457586', 1),\n    ('195776', 1),\n    ('7153704', 1),\n    ('18717177', 1),\n    ('3242846', 1),\n    ('2324959', 1),\n    ('24069500', 1),\n    ('7787290', 1),\n    ('1654450', 1),\n    ('34187700', 1),\n    ('22302663', 1),\n    ('2645237', 1),\n    ('5989608', 1),\n    ('2804704', 3),\n    ('13083579', 1),\n    ('2098803', 2),\n    ('19158255', 3),\n    ('3390263', 1),\n    ('236691', 1),\n    ('4866746', 1),\n    ('217784', 1),\n    ('561934', 1),\n    ('8258361', 1),\n    ('21321778', 1),\n    ('2158246', 1),\n    ('4305002', 1),\n    ('11158178', 1),\n    ('935996', 2),\n    ('27334628', 1),\n    ('26553611', 1),\n    ('17355803', 1),\n    ('1686720', 1),\n    ('740744', 1),\n    ('9001270', 1),\n    ('10893024', 1),\n    ('5429993', 1),\n    ('26790467', 1),\n    ('13956956', 1),\n    ('3434688', 1),\n    ('33629922', 1),\n    ('34281838', 1),\n    ('2513887', 1),\n    ('548239', 1),\n    ('9678533', 1),\n    ('25399151', 1),\n    ('25714957', 1),\n    ('21673015', 1),\n    ('17917662', 1),\n    ('21180308', 1),\n    ('28826687', 1),\n    ('3225410', 1),\n    ('26858630', 1),\n    ('1851374', 2),\n    ('9760696', 1),\n    ('2330988', 1),\n    ('26499456', 1),\n    ('31404750', 1),\n    ('6010264', 1),\n    ('15739716', 1),\n    ('75255', 2),\n    ('5886750', 1),\n    ('74387', 1),\n    ('14640866', 1),\n    ('24330723', 1),\n    ('3329115', 1),\n    ('4272659', 1),\n    ('21945570', 1),\n    ('858575', 2),\n    ('16586995', 1),\n    ('4418072', 1),\n    ('29545417', 1),\n    ('898561', 1),\n    ('223268', 1),\n    ('3906544', 1),\n    ('17311482', 1),\n    ('3722586', 1),\n    ('32102471', 1),\n    ('31250618', 1),\n    ('8681526', 1),\n    ('74868', 1),\n    ('16091743', 1),\n    ('9613761', 1),\n    ('3693882', 1),\n    ('612018', 2),\n    ('23407296', 1),\n    ('9830229', 1),\n    ('8733660', 1),\n    ('2308701', 1),\n    ('2421596', 1),\n    ('22696045', 1),\n    ('22974152', 1),\n    ('1031573', 2),\n    ('9159481', 2),\n    ('337740', 1),\n    ('19423428', 1),\n    ('13093495', 2),\n    ('1558966', 1),\n    ('26857099', 1),\n    ('34344764', 1),\n    ('34866660', 1),\n    ('1641890', 2),\n    ('20724748', 1),\n    ('11958787', 1),\n    ('1653220', 1),\n    ('8120397', 1),\n    ('1603666', 1),\n    ('26167604', 1),\n    ('3092323', 1),\n    ('2338401', 1),\n    ('6584119', 1),\n    ('12651534', 1),\n    ('6785614', 1),\n    ('4868441', 1),\n    ('13549802', 1),\n    ('25176887', 1),\n    ('4294276', 1),\n    ('1507610', 2),\n    ('3828133', 1),\n    ('883437', 1),\n    ('11451733', 1),\n    ('12224834', 1),\n    ('171623', 1),\n    ('8747179', 1),\n    ('9168916', 1),\n    ('24925008', 1),\n    ('1047834', 1),\n    ('19285459', 1),\n    ('3341234', 1),\n    ('16901157', 1),\n    ('8913555', 1),\n    ('423019', 2),\n    ('19014723', 1),\n    ('18634533', 1),\n    ('9309429', 2),\n    ('380517', 1),\n    ('17298593', 1),\n    ('6506391', 1),\n    ('22895245', 1),\n    ('15392682', 1),\n    ('16345566', 1),\n    ('3334667', 1),\n    ('28692419', 1),\n    ('34050487', 1),\n    ('8827343', 1),\n    ('2238856', 1),\n    ('23063745', 1),\n    ('4923868', 1),\n    ('12049835', 1),\n    ('20396076', 2),\n    ('3750829', 1),\n    ('11934067', 1),\n    ('2687106', 1),\n    ('685987', 1),\n    ('542094', 1),\n    ('20332464', 1),\n    ('30855651', 1),\n    ('10798819', 1),\n    ('6701449', 1),\n    ('4104442', 1),\n    ('454223', 1),\n    ('177740', 1),\n    ('4073844', 1),\n    ('31919884', 2),\n    ('558336', 1),\n    ('6790911', 1),\n    ('26163627', 1),\n    ('25276288', 1),\n    ('5470975', 1),\n    ('30125465', 1),\n    ('1032266', 1),\n    ('161874', 1),\n    ('8586705', 1),\n    ('4034543', 1),\n    ('12774808', 1),\n    ('30699430', 1),\n    ('10875573', 1),\n    ('11681963', 1),\n    ('24320501', 1),\n    ('26705991', 1),\n    ('27919005', 1),\n    ('6326152', 1),\n    ('9708819', 1),\n    ('28713430', 1),\n    ('26160725', 1),\n    ('15851039', 1),\n    ('6000549', 1),\n    ('10525221', 1),\n    ('17190300', 1),\n    ('512235', 1),\n    ('13348042', 1),\n    ('12602650', 1),\n    ('5329439', 1),\n    ('18089950', 1),\n    ('8383780', 1),\n    ('76630', 1),\n    ('31557', 2),\n    ('36546495', 1),\n    ('2570318', 1),\n    ('22845523', 1),\n    ('28178412', 1),\n    ('6288907', 1),\n    ('3441475', 1),\n    ('12002', 1),\n    ('25687963', 1),\n    ('8737296', 1),\n    ('669691', 2),\n    ('5292154', 1),\n    ('3014342', 1),\n    ('32084980', 1),\n    ('2821645', 1),\n    ('25913752', 1),\n    ('1875611', 1),\n    ('6976221', 1),\n    ('6081230', 1),\n    ('3875767', 1),\n    ('2553318', 1),\n    ('9967312', 1),\n    ('8235569', 1),\n    ('3645450', 1),\n    ('35604272', 1),\n    ('32427485', 1),\n    ('6876496', 1),\n    ('2976107', 1),\n    ('12181468', 1),\n    ('9628464', 1),\n    ('29176668', 2),\n    ('5344149', 2),\n    ('7021576', 1),\n    ('23143530', 1),\n    ('1126992', 1),\n    ('32002101', 1),\n    ('32792131', 1),\n    ('22224559', 2),\n    ('2324217', 1),\n    ('4758386', 1),\n    ('173650', 1),\n    ('10336027', 1),\n    ('17452896', 1),\n    ('768526', 1),\n    ('529276', 1),\n    ('19940419', 1),\n    ('27694404', 1),\n    ('14461347', 1),\n    ('11191665', 1),\n    ('4862696', 1),\n    ('2762659', 1),\n    ('17620280', 1),\n    ('4399341', 2),\n    ('1059701', 1),\n    ('2338797', 1),\n    ('144161', 1),\n    ('4073660', 1),\n    ('4406418', 2),\n    ('9951334', 1),\n    ('2302751', 1),\n    ('883489', 1),\n    ('35576535', 1),\n    ('3303044', 1),\n    ('103021', 2),\n    ('1067272', 1),\n    ('12576807', 1),\n    ('22641486', 1),\n    ('19961614', 1),\n    ('29203262', 2),\n    ('10213174', 1),\n    ('4493967', 1),\n    ('8770396', 1),\n    ('26069958', 1),\n    ('25225244', 1),\n    ('3477126', 1),\n    ('5444637', 2),\n    ('5441734', 1),\n    ('8396653', 1),\n    ('506119', 1),\n    ('1880039', 1),\n    ('11213660', 1),\n    ('6760614', 1),\n    ('13822777', 1),\n    ('8436521', 1),\n    ('7151371', 1),\n    ('27602436', 1),\n    ('3673598', 1),\n    ('4926508', 1),\n    ('27253597', 1),\n    ('11161265', 1),\n    ('16781603', 1),\n    ('31494246', 1),\n    ('1460724', 1),\n    ('3957197', 2),\n    ('844325', 1),\n    ('407178', 1),\n    ('8630196', 1),\n    ('398934', 1),\n    ('1473196', 1),\n    ('14543900', 1),\n    ('2852763', 2),\n    ('7277067', 1),\n    ('27602393', 1),\n    ('31735267', 1),\n    ('5076487', 2),\n    ('3368653', 1),\n    ('24936756', 1),\n    ('8928586', 1),\n    ('8968843', 1),\n    ('2728247', 1),\n    ('29528534', 1),\n    ('19476185', 1),\n    ('1126979', 1),\n    ('12816415', 1),\n    ('19392462', 2),\n    ('2806165', 1),\n    ('20845951', 1),\n    ('4305043', 1),\n    ('5113430', 1),\n    ('74537', 1),\n    ('9143529', 1),\n    ('5158963', 1),\n    ('766887', 1),\n    ('32078032', 1),\n    ('18227035', 1),\n    ('26475355', 1),\n    ('33537258', 1),\n    ('2783476', 1),\n    ('1981903', 1),\n    ('1878054', 1),\n    ('5569730', 1),\n    ('11923262', 1),\n    ('1790734', 1),\n    ('24473950', 1),\n    ('2534857', 1),\n    ('31737525', 1),\n    ('12479905', 1),\n    ('11244712', 1),\n    ('4113991', 1),\n    ('15593618', 1),\n    ('30863353', 1),\n    ('9689938', 1),\n    ('11599737', 1),\n    ('30698901', 1),\n    ('18769044', 1),\n    ('11596102', 1),\n    ('8994', 1),\n    ('12835282', 1),\n    ('4354571', 1),\n    ('12078778', 1),\n    ('25185963', 1),\n    ('15537999', 1),\n    ('14254136', 1),\n    ('7003043', 1),\n    ('34195557', 1),\n    ('12160883', 1),\n    ('1599509', 1),\n    ('20186742', 1),\n    ('8980330', 1),\n    ('23091532', 1),\n    ('28756111', 1),\n    ('31859700', 1),\n    ('320500', 1),\n    ('6070855', 1),\n    ('26670965', 1),\n    ('11467890', 1),\n    ('33270', 1),\n    ('695780', 1),\n    ('24319139', 1),\n    ('33808078', 1),\n    ('12459069', 1),\n    ('26388629', 1),\n    ('34759753', 1),\n    ('8846079', 2),\n    ('924799', 1),\n    ('25487806', 1),\n    ('6954825', 1),\n    ('23907596', 1),\n    ('12332639', 1),\n    ('893561', 1),\n    ('9308623', 1),\n    ('10995365', 1),\n    ('24642031', 1),\n    ('21201790', 1),\n    ('17101981', 1),\n    ('5831848', 1),\n    ('17470934', 1),\n    ('5082748', 1),\n    ('20814932', 1),\n    ('14661632', 1),\n    ('31683286', 1),\n    ('23215354', 2),\n    ('17995745', 1),\n    ('24414639', 1),\n    ('31330546', 1),\n    ('28872129', 1),\n    ('25649246', 1),\n    ('30093517', 1),\n    ('2997355', 1),\n    ('10286355', 1),\n    ('2066600', 1),\n    ('7885300', 1),\n    ('26969495', 1),\n    ('163456', 1),\n    ('1526756', 1),\n    ('5654699', 1),\n    ('15495512', 1),\n    ('28085067', 1),\n    ('4903470', 1),\n    ('5907567', 1),\n    ('6029546', 1),\n    ('13514560', 1),\n    ('7482708', 1),\n    ('64004', 1),\n    ('30871834', 1),\n    ('407351', 1),\n    ('15966157', 1),\n    ('10249841', 1),\n    ('22491070', 1),\n    ('24843685', 1),\n    ('65834', 1),\n    ('23325348', 1),\n    ('4916187', 1),\n    ('7060705', 1),\n    ('31719642', 1),\n    ('10593126', 1),\n    ('1970853', 1),\n    ('103026', 1),\n    ('20632582', 1),\n    ('1051400', 1),\n    ('29663404', 1),\n    ('19479881', 1),\n    ('24104622', 1),\n    ('25898800', 1),\n    ('20904222', 1),\n    ('7462680', 1),\n    ('10332554', 1),\n    ('6400083', 1),\n    ('21769565', 1),\n    ('2192166', 1),\n    ('2867481', 1),\n    ('311935', 1),\n    ('7731853', 1),\n    ('4011202', 1),\n    ('26067636', 1),\n    ('29680481', 1),\n    ('2533372', 1),\n    ('2518527', 1),\n    ('5080406', 1),\n    ('1682270', 1),\n    ('2406870', 1),\n    ('8574461', 1),\n    ('2839068', 1),\n    ('2476100', 1),\n    ('9913770', 3),\n    ('11158587', 1),\n    ('29181369', 1),\n    ('4912607', 1),\n    ('4110642', 1),\n    ('16198979', 2),\n    ('31767008', 1),\n    ('6057074', 1),\n    ('2266239', 1),\n    ('9408711', 1),\n    ('737803', 1),\n    ('33502433', 1),\n    ('7794617', 1),\n    ('28621291', 1),\n    ('18142186', 1),\n    ('30476775', 1),\n    ('11938659', 2),\n    ('10468204', 1),\n    ('1289049', 1),\n    ('29836897', 1),\n    ('3703666', 1),\n    ('11567269', 1),\n    ('5275752', 1),\n    ('3927125', 1),\n    ('782794', 1),\n    ('26672550', 1),\n    ('9541497', 1),\n    ('2862137', 1),\n    ('1962192', 3),\n    ('2646805', 1),\n    ('24053482', 1),\n    ('2243660', 2),\n    ('8002658', 2),\n    ('29677803', 1),\n    ('12973724', 1),\n    ('2161511', 1),\n    ('3044685', 1),\n    ('22110321', 1),\n    ('5866831', 1),\n    ('31176526', 1),\n    ('3077127', 2),\n    ('1047463', 1),\n    ('15156718', 1),\n    ('5982397', 1),\n    ('12392394', 1),\n    ('29679423', 1),\n    ('33509716', 1),\n    ('9673848', 1),\n    ('89631', 1),\n    ('3025328', 1),\n    ('35924273', 1),\n    ('12939745', 1),\n    ('14248418', 1),\n    ('7443317', 1),\n    ('203993', 1),\n    ('29854616', 1),\n    ('17974588', 1),\n    ('25952352', 1),\n    ('2594501', 1),\n    ('23123057', 1),\n    ('24564971', 2),\n    ('8856844', 1),\n    ('4483482', 1),\n    ('11381074', 1),\n    ('1170621', 1),\n    ('992451', 1),\n    ('844315', 1),\n    ('15749099', 1),\n    ('32984773', 1),\n    ('5890466', 1),\n    ('10962872', 1),\n    ('750965', 1),\n    ('14529359', 1),\n    ('1519886', 1),\n    ('33500618', 1),\n    ('16902655', 1),\n    ('28838720', 1),\n    ('3819797', 1),\n    ('27670293', 1),\n    ('6642278', 1),\n    ('31843968', 1),\n    ('21810192', 1),\n    ('25654231', 1),\n    ('17929573', 1),\n    ('2084027', 2),\n    ('14640430', 1),\n    ('19793556', 1),\n    ('7012465', 1),\n    ('4874236', 1),\n    ('3181954', 2),\n    ('1665752', 4),\n    ('105406', 1),\n    ('46505', 1),\n    ('5602177', 1),\n    ('16800849', 1),\n    ('24662892', 1),\n    ('33496154', 1),\n    ('6534317', 1),\n    ('13505565', 1),\n    ('13901892', 1),\n    ('5387833', 1),\n    ('5988879', 2),\n    ('948608', 1),\n    ('24589422', 1),\n    ('3461478', 1),\n    ('961749', 1),\n    ('3150787', 1),\n    ('2016450', 1),\n    ('28355486', 1),\n    ('20430909', 1),\n    ('8269287', 1),\n    ('15155743', 1),\n    ('27160128', 1),\n    ('17176854', 1),\n    ('12786966', 1),\n    ('19396361', 1),\n    ('1276915', 1),\n    ('4259578', 1),\n    ('32989068', 1),\n    ('23851782', 2),\n    ('3654163', 1),\n    ('7951528', 1),\n    ('2051753', 1),\n    ('24563042', 1),\n    ('21112250', 1),\n    ('2831557', 1),\n    ('12755223', 1),\n    ('13382767', 1),\n    ('26798950', 2),\n    ('5085987', 1),\n    ('12047781', 1),\n    ('24180195', 1),\n    ('3843878', 1),\n    ('29454281', 2),\n    ('24268011', 1),\n    ('11103867', 1),\n    ('21430607', 1),\n    ('2093928', 1),\n    ('31322594', 1),\n    ('4090453', 1),\n    ('5828241', 5),\n    ('348449', 1),\n    ('27756613', 2),\n    ('1790524', 1),\n    ('2554585', 1),\n    ('3754316', 3),\n    ('168561', 1),\n    ('961659', 1),\n    ('25345231', 1),\n    ('142456', 1),\n    ('8365100', 1),\n    ('19936431', 1),\n    ('8949714', 1),\n    ('11912461', 1),\n    ('329338', 1),\n    ('5570094', 1),\n    ('24482536', 1),\n    ('761361', 1),\n    ('3705395', 1),\n    ('8055027', 1),\n    ('2450308', 1),\n    ('29561731', 1),\n    ('12046410', 1),\n    ('2893701', 1),\n    ('10664680', 1),\n    ('10349441', 1),\n    ('26241157', 1),\n    ('27485441', 1),\n    ('1917925', 1),\n    ('3781791', 1),\n    ('25833791', 1),\n    ('2298338', 1),\n    ('2253183', 1),\n    ('1975933', 1),\n    ('3648312', 1),\n    ('33521245', 1),\n    ('1303197', 1),\n    ('946060', 1),\n    ('129427', 1),\n    ('24967184', 1),\n    ('2129355', 1),\n    ('9068710', 1),\n    ('22048104', 1),\n    ('3578336', 1),\n    ('2201463', 1),\n    ('12110290', 1),\n    ('6554432', 1),\n    ('2792590', 1),\n    ('15342625', 1),\n    ('2322629', 1),\n    ('19253013', 1),\n    ('13238459', 1),\n    ('21756406', 1),\n    ('26982554', 1),\n    ('5516824', 1),\n    ('7026014', 1),\n    ('8910242', 1),\n    ('31887851', 1),\n    ('9899953', 1),\n    ('10387098', 1),\n    ('2807539', 1),\n    ('9303169', 1),\n    ('129368', 2),\n    ('277148', 1),\n    ('31700012', 1),\n    ('27725910', 1),\n    ('31340066', 1),\n    ('8506932', 1),\n    ('3766451', 1),\n    ('34341976', 1),\n    ('5170537', 1),\n    ('3665600', 1),\n    ('3037944', 1),\n    ('2097338', 1),\n    ('29526015', 1),\n    ('33638304', 1),\n    ('4836239', 1),\n    ('1096949', 1),\n    ('7101280', 1),\n    ('4604905', 1),\n    ('12742325', 1),\n    ('1233576', 1),\n    ('1370246', 1),\n    ('16055450', 1),\n    ('18895294', 1),\n    ('29781', 1),\n    ('2749550', 1),\n    ('733901', 2),\n    ('23984600', 1),\n    ('1566225', 1),\n    ('32026934', 1),\n    ('16639443', 1),\n    ('11262486', 1),\n    ('1027060', 1),\n    ('24840023', 1),\n    ('1641666', 1),\n    ('14582951', 1),\n    ('7246171', 1),\n    ('15963629', 1),\n    ('2267088', 1),\n    ('31306731', 1),\n    ('5154250', 1),\n    ('2974264', 1),\n    ('2031778', 1),\n    ('3136443', 1),\n    ('6201873', 1),\n    ('133671', 1),\n    ('30849012', 2),\n    ('2513971', 1),\n    ('4718224', 1),\n    ('17203681', 1),\n    ('10628777', 1),\n    ('6844255', 1),\n    ('16113730', 1),\n    ('20395814', 1),\n    ('14387171', 1),\n    ('736222', 2),\n    ('19949371', 1),\n    ('986974', 1),\n    ('32014207', 1),\n    ('14436640', 1),\n    ('3763760', 1),\n    ('12596771', 1),\n    ('6115870', 1),\n    ('4248608', 1),\n    ('2423462', 1),\n    ('19960374', 1),\n    ('15661703', 1),\n    ('28326154', 1),\n    ('10843767', 1),\n    ('2198959', 1),\n    ('11151160', 1),\n    ('26008427', 1),\n    ('7986093', 1),\n    ('12599728', 1),\n    ('4956603', 1),\n    ('10142639', 1),\n    ('36354625', 1),\n    ('3583927', 1),\n    ('20506905', 3),\n    ('33857903', 1),\n    ('16949657', 1),\n    ('3200178', 1),\n    ('18933002', 1),\n    ('15912300', 1),\n    ('20532823', 1),\n    ('28026828', 1),\n    ('3509663', 1),\n    ('9842327', 1),\n    ('7966219', 1),\n    ('34737436', 1),\n    ('33638321', 1),\n    ('4334307', 2),\n    ('17306691', 1),\n    ('76297', 1),\n    ('3946762', 1),\n    ('22016216', 1),\n    ('18952889', 1),\n    ('5517504', 1),\n    ('2460704', 1),\n    ('4806533', 1),\n    ('2310825', 3),\n    ('1358544', 1),\n    ('73875', 1),\n    ('19238378', 1),\n    ('9124584', 1),\n    ('767783', 1),\n    ('23867726', 1),\n    ('25965217', 1),\n    ('22791862', 1),\n    ('5511248', 1),\n    ('32252', 1),\n    ('2046284', 1),\n    ('2687986', 1),\n    ('27595410', 1),\n    ('19920152', 1),\n    ('151807', 1),\n    ('4372392', 2),\n    ('357715', 1),\n    ('16002873', 1),\n    ('8154771', 1),\n    ('21015273', 1),\n    ('5948294', 1),\n    ('28090023', 2),\n    ('5720183', 1),\n    ('5823793', 1),\n    ('1192473', 1),\n    ('5566359', 1),\n    ('640260', 1),\n    ('17456456', 1),\n    ('11507281', 1),\n    ('5257449', 1),\n    ('13902854', 1),\n    ('34153889', 1),\n    ('2467723', 1),\n    ('3208776', 1),\n    ('29901445', 1),\n    ('1251285', 1),\n    ('1086034', 1),\n    ('32537784', 2),\n    ('1983207', 2),\n    ('7865906', 1),\n    ('2117053', 1),\n    ('2565462', 1),\n    ('2267635', 1),\n    ('7261333', 1),\n    ('1089233', 1),\n    ('34383424', 1),\n    ('77663', 1),\n    ('23454959', 2),\n    ('12218502', 1),\n    ('74942', 1),\n    ('30350954', 1),\n    ('2061037', 1),\n    ('26428662', 1),\n    ('9055525', 1),\n    ('14489554', 1),\n    ('22198915', 2),\n    ('5969984', 1),\n    ('10836632', 1),\n    ('445895', 1),\n    ('186501', 1),\n    ('5138153', 1),\n    ('15478024', 1),\n    ('5140171', 1),\n    ('2457278', 1),\n    ('4391376', 1),\n    ('23907048', 1),\n    ('113452', 1),\n    ('33401605', 1),\n    ('18846797', 1),\n    ('454655', 1),\n    ('3439529', 1),\n    ('3146380', 1),\n    ('9781685', 1),\n    ('22740580', 1),\n    ('1256587', 1),\n    ('10044772', 1),\n    ('4125457', 1),\n    ('73882', 1),\n    ('14832787', 1),\n    ('2711162', 1),\n    ('5985595', 1),\n    ('24702963', 1),\n    ('805053', 1),\n    ('4209429', 1),\n    ('8448301', 1),\n    ('11437460', 1),\n    ('442568', 1),\n    ('1065214', 1),\n    ('16706073', 1),\n    ('6361585', 2),\n    ('8454631', 1),\n    ('16751513', 1),\n    ('15084442', 1),\n    ('16174644', 1),\n    ('29539622', 1),\n    ('5269453', 1),\n    ('28062973', 2),\n    ('26613939', 1),\n    ('345825', 1),\n    ('18612911', 1),\n    ('3746', 1),\n    ('3038177', 1),\n    ('34749215', 2),\n    ('2314753', 1),\n    ('15639202', 1),\n    ('8067478', 1),\n    ('2001250', 2),\n    ('28817360', 1),\n    ('474031', 1),\n    ('8857076', 1),\n    ('2422360', 1),\n    ('4259508', 1),\n    ('2119835', 1),\n    ('10878913', 1),\n    ('1459045', 2),\n    ('1637570', 1),\n    ('15131446', 1),\n    ('1812196', 1),\n    ('2342514', 1),\n    ('3421818', 1),\n    ('12298624', 1),\n    ('10705512', 2),\n    ('8375858', 1),\n    ('8273214', 1),\n    ('26587817', 1),\n    ('2450370', 1),\n    ('8259794', 1),\n    ('31656709', 1),\n    ('15739815', 1),\n    ('3226241', 1),\n    ('35795053', 1),\n    ('8471717', 1),\n    ('19221106', 1),\n    ('29305837', 1),\n    ('2246413', 1),\n    ('6231069', 1),\n    ('2812023', 1),\n    ('3517536', 1),\n    ('3586028', 1),\n    ('6311923', 1),\n    ('11452604', 1),\n    ('32815923', 1),\n    ('3273263', 2),\n    ('30552508', 1),\n    ('209301', 2),\n    ('3370462', 1),\n    ('358367', 1),\n    ('9379703', 1),\n    ('3831594', 3),\n    ('5498919', 1),\n    ('133480', 2),\n    ('1128240', 1),\n    ('29008008', 2),\n    ('242525', 1),\n    ...],\n   1409]),\n ('filth',\n  [[('9252321', 1),\n    ('73467', 1),\n    ('12199089', 1),\n    ('13715502', 1),\n    ('23150423', 1),\n    ('5524740', 1),\n    ('320527', 1),\n    ('29381759', 1),\n    ('29077073', 1),\n    ('14914760', 1),\n    ('12298570', 1),\n    ('8388013', 1),\n    ('10248470', 1),\n    ('11760799', 2),\n    ('6961032', 1),\n    ('22175264', 1),\n    ('8960083', 1),\n    ('149928', 1)],\n   18]),\n ('years',\n  [[('1925869', 1),\n    ('3825963', 1),\n    ('21488473', 1),\n    ('1170621', 1),\n    ('8729953', 1),\n    ('35735486', 1),\n    ('710906', 1),\n    ('31867162', 1),\n    ('29498613', 1),\n    ('25430565', 1),\n    ('2861237', 1),\n    ('17683199', 1),\n    ('20066135', 2),\n    ('1618008', 1),\n    ('21492428', 1),\n    ('7424613', 3),\n    ('3408276', 1),\n    ('3019565', 1),\n    ('30170738', 1),\n    ('1629120', 1),\n    ('20736730', 1),\n    ('8444243', 1),\n    ('4969625', 1),\n    ('2157292', 1),\n    ('225505', 2),\n    ('7944229', 1),\n    ('30201005', 2),\n    ('22224559', 1),\n    ('4871592', 3),\n    ('1343327', 1),\n    ('8269287', 1),\n    ('28304392', 2),\n    ('2323936', 1),\n    ('3683909', 1),\n    ('34000732', 1),\n    ('2547451', 1),\n    ('14324889', 1),\n    ('33641119', 3),\n    ('16621128', 3),\n    ('1979586', 1),\n    ('667368', 2),\n    ('2837025', 1),\n    ('13644074', 2),\n    ('2371819', 1),\n    ('32817844', 1),\n    ('24751996', 2),\n    ('12078778', 1),\n    ('10593126', 1),\n    ('33808833', 1),\n    ('935847', 2),\n    ('8443094', 1),\n    ('4584210', 1),\n    ('15233369', 1),\n    ('538995', 1),\n    ('34645036', 2),\n    ('8337507', 1),\n    ('369790', 1),\n    ('21620643', 1),\n    ('2443609', 1),\n    ('10993685', 1),\n    ('401059', 1),\n    ('554858', 1),\n    ('9613521', 1),\n    ('27685410', 1),\n    ('2648856', 1),\n    ('12005853', 1),\n    ('4181202', 1),\n    ('5444283', 1),\n    ('33471439', 1),\n    ('9442685', 1),\n    ('2795282', 1),\n    ('17991914', 1),\n    ('30439611', 1),\n    ('2393998', 1),\n    ('6708252', 1),\n    ('226562', 1),\n    ('16168362', 1),\n    ('13473149', 1),\n    ('31326696', 2),\n    ('152328', 1),\n    ('33038027', 1),\n    ('18599471', 2),\n    ('996094', 1),\n    ('8980330', 1),\n    ('7322866', 1),\n    ('14461347', 1),\n    ('1581868', 4),\n    ('2141418', 2),\n    ('4399341', 1),\n    ('24611221', 1),\n    ('32747122', 1),\n    ('9034331', 1),\n    ('11387615', 1),\n    ('4198757', 1),\n    ('231829', 2),\n    ('3419072', 2),\n    ('12357969', 1),\n    ('29268797', 1),\n    ('1800351', 2),\n    ('22845523', 2),\n    ('3278100', 2),\n    ('15614260', 2),\n    ('14740284', 2),\n    ('22354044', 3),\n    ('3088906', 1),\n    ('93760', 1),\n    ('44501', 1),\n    ('34515864', 1),\n    ('2952825', 1),\n    ('5542667', 1),\n    ('9600368', 1),\n    ('22547607', 1),\n    ('284619', 1),\n    ('9233621', 1),\n    ('18149943', 1),\n    ('2274585', 1),\n    ('2533756', 2),\n    ('33497207', 1),\n    ('15837630', 1),\n    ('26293600', 1),\n    ('13783850', 4),\n    ('4340438', 1),\n    ('9989811', 1),\n    ('2210682', 3),\n    ('1934035', 1),\n    ('18967483', 1),\n    ('1519783', 1),\n    ('16235196', 1),\n    ('26431171', 1),\n    ('2735294', 1),\n    ('30547958', 2),\n    ('161452', 2),\n    ('8100298', 1),\n    ('25948394', 1),\n    ('17550887', 1),\n    ('3312138', 1),\n    ('35013884', 1),\n    ('22645209', 1),\n    ('19978736', 2),\n    ('24473060', 1),\n    ('4578695', 1),\n    ('11312191', 1),\n    ('156632', 1),\n    ('476008', 4),\n    ('26835108', 2),\n    ('35930040', 1),\n    ('2255603', 2),\n    ('7133616', 1),\n    ('28080410', 1),\n    ('33773876', 1),\n    ('16826347', 2),\n    ('4207557', 1),\n    ('32624770', 2),\n    ('5461236', 1),\n    ('3940964', 1),\n    ('17143077', 2),\n    ('14910791', 1),\n    ('3148613', 1),\n    ('31649925', 1),\n    ('1287385', 1),\n    ('12401591', 1),\n    ('6135756', 1),\n    ('7625729', 2),\n    ('12165318', 1),\n    ('2002258', 1),\n    ('9162690', 2),\n    ('1346601', 1),\n    ('5157418', 1),\n    ('3535258', 1),\n    ('2631898', 2),\n    ('8687544', 1),\n    ('23928471', 1),\n    ('349874', 1),\n    ('2622639', 1),\n    ('17786854', 1),\n    ('27754332', 1),\n    ('25095660', 1),\n    ('21851051', 1),\n    ('8268252', 1),\n    ('8528824', 2),\n    ('5464104', 1),\n    ('3445885', 1),\n    ('30296552', 1),\n    ('14521896', 1),\n    ('32580654', 1),\n    ('2983487', 2),\n    ('19093155', 2),\n    ('24381383', 1),\n    ('6070855', 1),\n    ('18735140', 1),\n    ('8945459', 2),\n    ('1412632', 1),\n    ('4162938', 1),\n    ('2352505', 1),\n    ('26044473', 1),\n    ('1688060', 1),\n    ('15218070', 1),\n    ('3274071', 1),\n    ('18178441', 1),\n    ('17244774', 3),\n    ('8603284', 1),\n    ('5747105', 1),\n    ('2917185', 1),\n    ('24032824', 1),\n    ('19009065', 4),\n    ('26241157', 1),\n    ('4260551', 1),\n    ('28873034', 1),\n    ('2707684', 2),\n    ('1880660', 3),\n    ('32561435', 1),\n    ('12560767', 2),\n    ('8461710', 2),\n    ('10175018', 2),\n    ('6254878', 1),\n    ('2255067', 1),\n    ('12186543', 2),\n    ('11737750', 1),\n    ('16957895', 1),\n    ('1643035', 1),\n    ('20837938', 1),\n    ('12932741', 2),\n    ('195388', 1),\n    ('25896181', 2),\n    ('4213204', 1),\n    ('592766', 1),\n    ('31888284', 1),\n    ('12405261', 1),\n    ('13682670', 1),\n    ('21637956', 1),\n    ('924799', 1),\n    ('10015709', 1),\n    ('20225956', 1),\n    ('1851648', 1),\n    ('2753501', 1),\n    ('5701463', 2),\n    ('35005158', 1),\n    ('558970', 1),\n    ('1512171', 1),\n    ('67415', 1),\n    ('18578504', 1),\n    ('268833', 1),\n    ('628120', 1),\n    ('23966679', 1),\n    ('12394296', 1),\n    ('9661361', 1),\n    ('28649926', 1),\n    ('22120174', 1),\n    ('1478417', 1),\n    ('1707352', 1),\n    ('25620902', 1),\n    ('19931072', 1),\n    ('8979709', 1),\n    ('3259855', 4),\n    ('10103122', 1),\n    ('26798950', 1),\n    ('180991', 1),\n    ('16044362', 3),\n    ('133622', 1),\n    ('3440608', 1),\n    ('33031065', 1),\n    ('34246591', 1),\n    ('20556628', 3),\n    ('2305786', 1),\n    ('16666086', 2),\n    ('18934490', 1),\n    ('10599304', 1),\n    ('31477549', 1),\n    ('12186365', 1),\n    ('15513119', 1),\n    ('35587321', 1),\n    ('18757474', 1),\n    ('1591973', 2),\n    ('12320671', 1),\n    ('15667039', 1),\n    ('4180427', 1),\n    ('15292916', 1),\n    ('289755', 2),\n    ('1031231', 1),\n    ('12317186', 1),\n    ('5600244', 1),\n    ('204774', 4),\n    ('26790467', 2),\n    ('27986651', 2),\n    ('32719069', 1),\n    ('26106118', 1),\n    ('30741010', 3),\n    ('9056809', 1),\n    ('2384827', 1),\n    ('27802856', 1),\n    ('5600770', 2),\n    ('328284', 2),\n    ('8874926', 1),\n    ('20345291', 1),\n    ('6076402', 1),\n    ('5002289', 1),\n    ('1954206', 3),\n    ('20777420', 2),\n    ('22657030', 1),\n    ('32701112', 2),\n    ('33087163', 2),\n    ('10693049', 1),\n    ('30868944', 1),\n    ('5671546', 1),\n    ('444267', 1),\n    ('5274232', 1),\n    ('10185281', 1),\n    ('155785', 1),\n    ('61184', 1),\n    ('14814612', 1),\n    ('7976705', 1),\n    ('2541839', 1),\n    ('25932667', 1),\n    ('18855425', 1),\n    ('30177211', 1),\n    ('7535508', 1),\n    ('5188636', 2),\n    ('593127', 1),\n    ('23877633', 1),\n    ('33100959', 1),\n    ('30899685', 1),\n    ('1862139', 1),\n    ('8294092', 1),\n    ('16355046', 1),\n    ('190393', 1),\n    ('2260329', 1),\n    ('23286957', 1),\n    ('2120933', 1),\n    ('4694464', 1),\n    ('28986019', 1),\n    ('28103735', 1),\n    ('35075250', 1),\n    ('4985426', 1),\n    ('26340083', 3),\n    ('18565134', 1),\n    ('1104981', 1),\n    ('3158499', 1),\n    ('18656759', 1),\n    ('5975925', 1),\n    ('2572919', 1),\n    ('8275826', 1),\n    ('20903035', 1),\n    ('2426058', 1),\n    ('1368434', 1),\n    ('5378148', 1),\n    ('33446226', 2),\n    ('12566479', 1),\n    ('11664753', 1),\n    ('23777979', 1),\n    ('2066600', 1),\n    ('10030316', 1),\n    ('10707864', 2),\n    ('2889278', 1),\n    ('20475363', 1),\n    ('772732', 2),\n    ('4881898', 1),\n    ('3137571', 1),\n    ('28763446', 2),\n    ('12614703', 1),\n    ('26670965', 2),\n    ('2444294', 1),\n    ('25187050', 1),\n    ('31304482', 2),\n    ('7536359', 2),\n    ('629072', 1),\n    ('18613593', 1),\n    ('3223932', 1),\n    ('8950238', 1),\n    ('32977496', 1),\n    ('17188716', 1),\n    ('26847108', 3),\n    ('2287636', 3),\n    ('20903266', 1),\n    ('24522784', 1),\n    ('33315170', 1),\n    ('13403078', 1),\n    ('30275589', 1),\n    ('2884945', 1),\n    ('31977928', 1),\n    ('23438736', 1),\n    ('4861305', 2),\n    ('33940717', 1),\n    ('29446866', 7),\n    ('18222110', 2),\n    ('1284106', 1),\n    ('11448113', 1),\n    ('9386367', 2),\n    ('1750723', 1),\n    ('501340', 1),\n    ('16674680', 1),\n    ('10367181', 1),\n    ('1689394', 2),\n    ('18678217', 1),\n    ('2663035', 1),\n    ('26015620', 2),\n    ('2236324', 1),\n    ('161334', 2),\n    ('33124', 1),\n    ('21980093', 1),\n    ('32441881', 1),\n    ('24485822', 1),\n    ('32504373', 1),\n    ('19287252', 1),\n    ('4717779', 1),\n    ('5046538', 1),\n    ('12138219', 2),\n    ('28844326', 1),\n    ('35205034', 2),\n    ('1448945', 1),\n    ('16771910', 1),\n    ('8323828', 1),\n    ('2256097', 1),\n    ('19525319', 2),\n    ('30440118', 1),\n    ('5274269', 3),\n    ('5743048', 1),\n    ('5847229', 1),\n    ('10772229', 1),\n    ('692670', 2),\n    ('7576612', 2),\n    ('23561477', 2),\n    ('15907366', 1),\n    ('689490', 1),\n    ('1373876', 5),\n    ('26667799', 1),\n    ('28973039', 1),\n    ('21404478', 1),\n    ('2839258', 1),\n    ('1858763', 1),\n    ('171522', 1),\n    ('21769648', 1),\n    ('26742350', 1),\n    ('17350485', 2),\n    ('11294399', 1),\n    ('32912072', 1),\n    ('24932519', 1),\n    ('30625', 3),\n    ('20113019', 1),\n    ('10048256', 1),\n    ('28133007', 2),\n    ('7285884', 2),\n    ('3018210', 1),\n    ('1017172', 1),\n    ('2117473', 1),\n    ('35722562', 1),\n    ('32496356', 1),\n    ('864614', 1),\n    ('3012123', 1),\n    ('170936', 1),\n    ('17752353', 2),\n    ('19872306', 1),\n    ('4362641', 1),\n    ('10185702', 1),\n    ('5558615', 1),\n    ('12755223', 1),\n    ('14618858', 1),\n    ('9002807', 1),\n    ('11501271', 1),\n    ('31161925', 1),\n    ('2600144', 1),\n    ('28731928', 1),\n    ('1573600', 1),\n    ('5236777', 1),\n    ('7794445', 1),\n    ('1468152', 1),\n    ('1428132', 3),\n    ('14271902', 1),\n    ('18912832', 1),\n    ('21180653', 1),\n    ('27869109', 1),\n    ('32751743', 1),\n    ('32987753', 1),\n    ('25744220', 2),\n    ('36074659', 1),\n    ('2016701', 1),\n    ('2534857', 2),\n    ('6963236', 1),\n    ('9022958', 4),\n    ('3812366', 2),\n    ('32573143', 2),\n    ('1814192', 1),\n    ('23904207', 1),\n    ('28648635', 1),\n    ('2530065', 1),\n    ('8264802', 1),\n    ('10486289', 2),\n    ('4913923', 2),\n    ('1402997', 1),\n    ('8913027', 1),\n    ('6735519', 5),\n    ('18179608', 1),\n    ('7556999', 1),\n    ('29462138', 1),\n    ('32307438', 1),\n    ('2369122', 1),\n    ('26111450', 1),\n    ('1096473', 2),\n    ('7672134', 1),\n    ('29783704', 1),\n    ('2709799', 1),\n    ('3662683', 1),\n    ('25086167', 1),\n    ('490623', 1),\n    ('7034456', 1),\n    ('16431349', 2),\n    ('7087167', 1),\n    ('23998241', 1),\n    ('3440849', 1),\n    ('1469871', 1),\n    ('25737142', 4),\n    ('1189767', 1),\n    ('3776666', 1),\n    ('7513491', 1),\n    ('457578', 1),\n    ('3475071', 1),\n    ('14826059', 1),\n    ('31083557', 3),\n    ('4521454', 1),\n    ('6102307', 1),\n    ('21052275', 1),\n    ('36381869', 1),\n    ('7917619', 1),\n    ('1988806', 1),\n    ('29373289', 1),\n    ('8695', 1),\n    ('27223546', 2),\n    ('982180', 1),\n    ('1217079', 2),\n    ('1241609', 1),\n    ('34142673', 1),\n    ('17323415', 2),\n    ('2886036', 3),\n    ('32817565', 1),\n    ('2681108', 2),\n    ('442668', 1),\n    ('33628294', 1),\n    ('61481', 1),\n    ('23856720', 1),\n    ('18497116', 1),\n    ('12535736', 1),\n    ('29294207', 1),\n    ('2226221', 1),\n    ('167857', 1),\n    ('12393362', 1),\n    ('16125220', 1),\n    ('7596042', 1),\n    ('11655972', 1),\n    ('9913770', 1),\n    ('7092652', 2),\n    ('8856020', 1),\n    ('25464794', 2),\n    ('32100786', 1),\n    ('1040965', 2),\n    ('24268011', 2),\n    ('545795', 2),\n    ('531816', 5),\n    ('473776', 1),\n    ('12812600', 1),\n    ('12603065', 2),\n    ('13705136', 1),\n    ('29530341', 1),\n    ('21779605', 1),\n    ('10063659', 1),\n    ('32984773', 3),\n    ('26279540', 1),\n    ('15458413', 1),\n    ('36643430', 3),\n    ('28625636', 1),\n    ('22265300', 1),\n    ('25915982', 1),\n    ('6876496', 1),\n    ('1228330', 3),\n    ('20951888', 1),\n    ('29259032', 1),\n    ('31156941', 1),\n    ('289253', 1),\n    ('31428242', 1),\n    ('171562', 1),\n    ('24212705', 1),\n    ('19313212', 2),\n    ('20581383', 1),\n    ('21513056', 1),\n    ('12583555', 1),\n    ('8644405', 1),\n    ('1643411', 1),\n    ('3834043', 1),\n    ('4418169', 4),\n    ('6469252', 1),\n    ('10934336', 1),\n    ('18998739', 3),\n    ('8447974', 1),\n    ('1995696', 1),\n    ('20998524', 2),\n    ('8638966', 1),\n    ('10745657', 1),\n    ('4429064', 1),\n    ('6008033', 1),\n    ('8775362', 1),\n    ('30489553', 3),\n    ('4289078', 1),\n    ('31978264', 1),\n    ('31231394', 1),\n    ('142224', 1),\n    ('18716405', 2),\n    ('3861685', 1),\n    ('32566466', 1),\n    ('12000049', 1),\n    ('1181828', 1),\n    ('2267722', 2),\n    ('12556054', 1),\n    ('31623179', 2),\n    ('21022163', 1),\n    ('24218125', 1),\n    ('1591979', 1),\n    ('15242215', 1),\n    ('8888296', 1),\n    ('2205675', 1),\n    ('25432337', 2),\n    ('5290892', 1),\n    ('35003062', 1),\n    ('3300211', 1),\n    ('1769325', 1),\n    ('815934', 2),\n    ('34955947', 1),\n    ('16977383', 1),\n    ('23266463', 1),\n    ('4174679', 2),\n    ('3374650', 1),\n    ('13897761', 1),\n    ('11558274', 1),\n    ('25681893', 1),\n    ('31513994', 1),\n    ('25557070', 1),\n    ('26108223', 1),\n    ('432364', 2),\n    ('1411271', 1),\n    ('5906390', 1),\n    ('13429005', 1),\n    ('5055826', 1),\n    ('18516420', 1),\n    ('10791945', 1),\n    ('3032133', 1),\n    ('2584970', 1),\n    ('2016450', 1),\n    ('13956956', 2),\n    ('16636044', 1),\n    ('12054679', 1),\n    ('3028833', 1),\n    ('6543887', 1),\n    ('17746685', 1),\n    ('2093587', 1),\n    ('14411595', 1),\n    ('8447225', 3),\n    ('3947481', 1),\n    ('28195972', 1),\n    ('314093', 1),\n    ('30934242', 1),\n    ('30928961', 3),\n    ('24029843', 1),\n    ('4892253', 1),\n    ('17437799', 1),\n    ('9035550', 3),\n    ('444245', 1),\n    ('3036370', 3),\n    ('11959424', 2),\n    ('5221632', 1),\n    ('21201790', 1),\n    ('77674', 1),\n    ('1241944', 1),\n    ('10272267', 1),\n    ('22644965', 1),\n    ('19273598', 3),\n    ('3213691', 2),\n    ('706990', 1),\n    ('6317013', 4),\n    ('21028971', 1),\n    ('13509822', 1),\n    ('3387839', 1),\n    ('142456', 1),\n    ('14414565', 3),\n    ('2272969', 2),\n    ('31191566', 2),\n    ('6103939', 1),\n    ('2981371', 2),\n    ('22707969', 2),\n    ('32216249', 1),\n    ('33479342', 1),\n    ('635989', 1),\n    ('33948002', 1),\n    ('1434574', 2),\n    ('21820310', 1),\n    ('10815137', 1),\n    ('1274324', 1),\n    ('536521', 2),\n    ('75984', 1),\n    ('35004788', 1),\n    ('23494455', 1),\n    ('6266691', 1),\n    ('26084706', 5),\n    ('28044351', 1),\n    ('2291894', 1),\n    ('8765205', 1),\n    ('1134155', 1),\n    ('22062835', 2),\n    ('17064258', 2),\n    ('348292', 1),\n    ('32704611', 1),\n    ('21836707', 1),\n    ('2592877', 1),\n    ('5212057', 1),\n    ('2161086', 1),\n    ('3793519', 1),\n    ('1597802', 2),\n    ('24407246', 2),\n    ('3253210', 1),\n    ('7601499', 1),\n    ('18258415', 2),\n    ('17828310', 1),\n    ('35766264', 1),\n    ('17891510', 1),\n    ('10778107', 2),\n    ('1494429', 1),\n    ('352795', 1),\n    ('6247686', 1),\n    ('32144390', 1),\n    ('29894989', 1),\n    ('3025328', 1),\n    ('18874821', 1),\n    ('8220647', 2),\n    ('20811776', 1),\n    ('8355088', 2),\n    ('1954311', 2),\n    ('16890025', 1),\n    ('549949', 1),\n    ('26162880', 1),\n    ('2609169', 1),\n    ('30623977', 1),\n    ('113427', 3),\n    ('11744082', 3),\n    ('31985780', 1),\n    ('1985184', 1),\n    ('28696280', 1),\n    ('301314', 2),\n    ('3954720', 1),\n    ('535335', 1),\n    ('654530', 2),\n    ('16166591', 1),\n    ('19141442', 1),\n    ('4767200', 1),\n    ('8166078', 1),\n    ('438548', 2),\n    ('125563', 1),\n    ('5348407', 1),\n    ('8508987', 1),\n    ('12664320', 1),\n    ('35736458', 1),\n    ('24961327', 2),\n    ('30548208', 1),\n    ('11028635', 1),\n    ('27880051', 2),\n    ('19998244', 1),\n    ('1430396', 1),\n    ('2209027', 1),\n    ('23746718', 2),\n    ('21739675', 1),\n    ('2831557', 1),\n    ('26013008', 1),\n    ('24987301', 2),\n    ('10621215', 2),\n    ('20913539', 1),\n    ('4362030', 1),\n    ('3623103', 2),\n    ('146908', 1),\n    ('35981711', 1),\n    ('12273809', 1),\n    ('431014', 4),\n    ('129524', 1),\n    ('5843155', 1),\n    ('3644034', 2),\n    ('4512681', 2),\n    ('5499151', 1),\n    ('9790786', 1),\n    ('30607983', 1),\n    ('33066426', 1),\n    ('1721169', 2),\n    ('8640412', 1),\n    ('5565318', 4),\n    ('4208760', 1),\n    ('14820202', 1),\n    ('965992', 2),\n    ('415055', 1),\n    ('2990847', 1),\n    ('4077833', 2),\n    ('17442083', 1),\n    ('29076211', 3),\n    ('2236976', 1),\n    ('8949502', 1),\n    ('1046470', 2),\n    ('733836', 3),\n    ('598346', 1),\n    ('28288095', 2),\n    ('5589714', 1),\n    ('27754256', 1),\n    ('898561', 3),\n    ('1343245', 2),\n    ('75874', 1),\n    ('4475738', 1),\n    ('2869016', 3),\n    ('2682100', 2),\n    ('1618469', 2),\n    ('1072075', 3),\n    ('50957', 1),\n    ('18812751', 2),\n    ('35790651', 1),\n    ('11288620', 1),\n    ('3262696', 1),\n    ('3903941', 1),\n    ('11464636', 1),\n    ('10364521', 1),\n    ('2005133', 1),\n    ('29526153', 1),\n    ('5676296', 1),\n    ('28001277', 2),\n    ('21585746', 1),\n    ('17048091', 1),\n    ('8223970', 1),\n    ('5713867', 1),\n    ('13145083', 1),\n    ('4664724', 1),\n    ('21212647', 1),\n    ('6669665', 3),\n    ('74293', 2),\n    ('11638265', 1),\n    ('12510014', 1),\n    ('9223398', 1),\n    ('367616', 2),\n    ('459801', 1),\n    ('29324670', 1),\n    ('2256164', 1),\n    ('3272326', 1),\n    ('13913878', 1),\n    ('5341691', 1),\n    ('3793631', 2),\n    ('733927', 1),\n    ('4457831', 3),\n    ('28947608', 1),\n    ('1686720', 1),\n    ('26281666', 1),\n    ('8854150', 3),\n    ('7224803', 1),\n    ('6491387', 2),\n    ('5634338', 3),\n    ('6694508', 1),\n    ('19182579', 1),\n    ('28525801', 1),\n    ('12596096', 1),\n    ('20724748', 1),\n    ('6520640', 1),\n    ('1487371', 1),\n    ('32972083', 1),\n    ('21320194', 1),\n    ('692785', 1),\n    ('27754718', 1),\n    ('4894261', 1),\n    ('1074253', 1),\n    ('68047', 1),\n    ('5559871', 2),\n    ('599963', 1),\n    ('18393594', 1),\n    ('30878636', 1),\n    ('11083630', 1),\n    ('18800331', 1),\n    ('9142893', 1),\n    ('11893755', 1),\n    ('4856981', 2),\n    ('22486844', 1),\n    ('284752', 2),\n    ('740744', 1),\n    ('19769765', 1),\n    ('8492265', 1),\n    ('33820103', 1),\n    ('8056834', 1),\n    ('31632887', 1),\n    ('24301630', 1),\n    ('29417879', 1),\n    ('23123057', 2),\n    ('3060756', 1),\n    ('34902566', 1),\n    ('12252072', 1),\n    ('2973523', 1),\n    ('4084609', 1),\n    ('33082797', 1),\n    ('33270', 2),\n    ('29052102', 1),\n    ('76383', 1),\n    ('2436406', 1),\n    ('1392986', 1),\n    ('25954897', 2),\n    ('23998259', 1),\n    ('7917514', 1),\n    ('35012675', 1),\n    ('888336', 1),\n    ('10454296', 1),\n    ('287404', 1),\n    ('8172248', 1),\n    ('14661632', 1),\n    ('1688821', 1),\n    ('30418882', 1),\n    ('21655117', 1),\n    ('25868401', 1),\n    ('14375863', 1),\n    ('8885678', 1),\n    ('31131834', 1),\n    ('26263144', 1),\n    ('16389361', 1),\n    ('29322223', 1),\n    ('11471255', 1),\n    ('19486539', 1),\n    ('176545', 1),\n    ('21441296', 2),\n    ('11026652', 1),\n    ('2682902', 2),\n    ('4954774', 2),\n    ('19870531', 2),\n    ('24981628', 1),\n    ('667372', 1),\n    ('27057795', 1),\n    ('33200897', 1),\n    ('10577512', 1),\n    ('166813', 1),\n    ('28831771', 2),\n    ('1394661', 1),\n    ('26100091', 1),\n    ('34953586', 2),\n    ('29211207', 1),\n    ('19285459', 1),\n    ('1397377', 1),\n    ('23205990', 2),\n    ('8102911', 1),\n    ('6836566', 1),\n    ('8832299', 2),\n    ('13137023', 1),\n    ('2408687', 4),\n    ('35790647', 1),\n    ('32811226', 1),\n    ('13636848', 1),\n    ('32644359', 1),\n    ('1611590', 2),\n    ('12004855', 1),\n    ('10212127', 1),\n    ('1812238', 2),\n    ('29480472', 1),\n    ('4419761', 1),\n    ('7999304', 1),\n    ('26617962', 4),\n    ('14655668', 1),\n    ('709860', 1),\n    ('32112949', 1),\n    ('2188611', 3),\n    ('3827670', 1),\n    ('1530223', 1),\n    ('30039', 1),\n    ('15084359', 2),\n    ('1659954', 2),\n    ('21939688', 5),\n    ('6121312', 1),\n    ('14738144', 1),\n    ('26118204', 1),\n    ('33740115', 1),\n    ('18993404', 2),\n    ('30081969', 2),\n    ('930894', 1),\n    ('4845326', 1),\n    ('5107779', 1),\n    ('4219387', 1),\n    ('14149884', 1),\n    ('4213193', 1),\n    ('19102889', 1),\n    ('36500436', 2),\n    ('2642180', 1),\n    ('596119', 1),\n    ('18192517', 1),\n    ('1237529', 1),\n    ('16328715', 1),\n    ('6836675', 1),\n    ('1050541', 1),\n    ('21825241', 2),\n    ('27875695', 1),\n    ('31754231', 1),\n    ('18631215', 1),\n    ('10279937', 1),\n    ('14938510', 1),\n    ('2681496', 1),\n    ('33167476', 2),\n    ('431333', 1),\n    ('5341658', 1),\n    ('5906516', 2),\n    ('27578636', 1),\n    ('2210286', 1),\n    ('24731562', 1),\n    ...],\n   6883]),\n ('climatic',\n  [[('5414895', 1),\n    ('3504167', 1),\n    ('2488992', 1),\n    ('4213160', 1),\n    ('11158178', 1),\n    ('6947418', 1),\n    ('30332673', 1),\n    ('12061267', 1),\n    ('443011', 1),\n    ('1620399', 1),\n    ('88609', 1),\n    ('905530', 1),\n    ('7291822', 1),\n    ('31932717', 1),\n    ('2695729', 1),\n    ('2356721', 1),\n    ('19596597', 1),\n    ('11779229', 1),\n    ('11510742', 1),\n    ('1323663', 1),\n    ('20903214', 1),\n    ('17528498', 1),\n    ('31916104', 1),\n    ('30860835', 1),\n    ('2260396', 1),\n    ('35643407', 1),\n    ('2908457', 1),\n    ('8915053', 1),\n    ('14508657', 1),\n    ('12742325', 1),\n    ('7287091', 1)],\n   31])]"
     ]
    }
   ],
   "source": [
    "tf_idf_keyVal.take(5)"
   ]
  },
  {
   "cell_type": "code",
   "execution_count": 0,
   "metadata": {
    "application/vnd.databricks.v1+cell": {
     "cellMetadata": {
      "byteLimit": 2048000,
      "rowLimit": 10000
     },
     "inputWidgets": {},
     "nuid": "5fd4ec22-286a-4d5c-a1e5-619a975783d1",
     "showTitle": false,
     "title": ""
    }
   },
   "outputs": [],
   "source": [
    "# number of documents N\n",
    "N = plot_summaries_by_id.count()"
   ]
  },
  {
   "cell_type": "code",
   "execution_count": 0,
   "metadata": {
    "application/vnd.databricks.v1+cell": {
     "cellMetadata": {
      "byteLimit": 2048000,
      "rowLimit": 10000
     },
     "inputWidgets": {},
     "nuid": "8c25a257-7260-4683-81c3-0273992bbbb6",
     "showTitle": false,
     "title": ""
    }
   },
   "outputs": [
    {
     "output_type": "stream",
     "name": "stdout",
     "output_type": "stream",
     "text": [
      "Out[30]: 42306"
     ]
    }
   ],
   "source": [
    "N"
   ]
  },
  {
   "cell_type": "code",
   "execution_count": 0,
   "metadata": {
    "application/vnd.databricks.v1+cell": {
     "cellMetadata": {
      "byteLimit": 2048000,
      "rowLimit": 10000
     },
     "inputWidgets": {},
     "nuid": "a04d0b92-ce9e-4296-ab6a-75826a8472a7",
     "showTitle": false,
     "title": ""
    }
   },
   "outputs": [],
   "source": [
    "import math"
   ]
  },
  {
   "cell_type": "code",
   "execution_count": 0,
   "metadata": {
    "application/vnd.databricks.v1+cell": {
     "cellMetadata": {
      "byteLimit": 2048000,
      "rowLimit": 10000
     },
     "inputWidgets": {},
     "nuid": "6d854f13-79ff-48e7-86b7-572534c275b8",
     "showTitle": false,
     "title": ""
    }
   },
   "outputs": [],
   "source": [
    "Wij = tf_idf_keyVal.flatMap(lambda x: [((x[0], tf[0]), round(tf[1]*math.log(N/x[1][1]),3)) for tf in x[1][0]])"
   ]
  },
  {
   "cell_type": "markdown",
   "metadata": {
    "application/vnd.databricks.v1+cell": {
     "cellMetadata": {},
     "inputWidgets": {},
     "nuid": "5a319d2a-0cef-41a1-9041-cd1ba7ed5fef",
     "showTitle": false,
     "title": ""
    }
   },
   "source": [
    "$$\n",
    "W_{ij}\\hspace{1mm}is\\hspace{1mm} our\\hspace{1mm} TF-IDF\\hspace{1mm} value\\hspace{1mm} for\\hspace{1mm} i^{th}\\hspace{1mm} word\\hspace{1mm} and\\hspace{1mm} j^{th}\\hspace{1mm} document.\n",
    "$$"
   ]
  },
  {
   "cell_type": "code",
   "execution_count": 0,
   "metadata": {
    "application/vnd.databricks.v1+cell": {
     "cellMetadata": {
      "byteLimit": 2048000,
      "rowLimit": 10000
     },
     "inputWidgets": {},
     "nuid": "6a3be421-094d-4790-a482-6333cf53d011",
     "showTitle": false,
     "title": ""
    }
   },
   "outputs": [
    {
     "output_type": "stream",
     "name": "stdout",
     "output_type": "stream",
     "text": [
      "Out[42]: [(('unstable', '1952976'), 5.081),\n (('unstable', '1580851'), 5.081),\n (('unstable', '1059701'), 5.081),\n (('unstable', '25456956'), 5.081),\n (('unstable', '11558326'), 5.081),\n (('unstable', '25625475'), 5.081),\n (('unstable', '3104623'), 5.081),\n (('unstable', '14827680'), 10.161),\n (('unstable', '1682270'), 5.081),\n (('unstable', '2750304'), 5.081)]"
     ]
    }
   ],
   "source": [
    "Wij.take(10)"
   ]
  },
  {
   "cell_type": "code",
   "execution_count": 0,
   "metadata": {
    "application/vnd.databricks.v1+cell": {
     "cellMetadata": {
      "byteLimit": 2048000,
      "rowLimit": 10000
     },
     "inputWidgets": {},
     "nuid": "e548a958-b8de-4607-9285-4572556a9a97",
     "showTitle": false,
     "title": ""
    }
   },
   "outputs": [],
   "source": [
    "search_term = 'God'"
   ]
  },
  {
   "cell_type": "code",
   "execution_count": 0,
   "metadata": {
    "application/vnd.databricks.v1+cell": {
     "cellMetadata": {
      "byteLimit": 2048000,
      "rowLimit": 10000
     },
     "inputWidgets": {},
     "nuid": "710948eb-e52a-40d0-b738-39cc04511d38",
     "showTitle": false,
     "title": ""
    }
   },
   "outputs": [],
   "source": [
    "# finding top 10 ids for a given search term\n",
    "docs = Wij.filter(lambda x: x[0][0]==search_term)"
   ]
  },
  {
   "cell_type": "code",
   "execution_count": 0,
   "metadata": {
    "application/vnd.databricks.v1+cell": {
     "cellMetadata": {
      "byteLimit": 2048000,
      "rowLimit": 10000
     },
     "inputWidgets": {},
     "nuid": "60055271-84cc-4c73-83cd-6f977b99cbb8",
     "showTitle": false,
     "title": ""
    }
   },
   "outputs": [
    {
     "output_type": "stream",
     "name": "stdout",
     "output_type": "stream",
     "text": [
      "Out[54]: [(('God', '33388421'), 11.927),\n (('God', '12121822'), 3.976),\n (('God', '5600770'), 11.927),\n (('God', '1373876'), 3.976),\n (('God', '1231877'), 3.976),\n (('God', '9653767'), 19.878),\n (('God', '6768551'), 3.976),\n (('God', '24486913'), 3.976),\n (('God', '4461403'), 3.976),\n (('God', '28557670'), 3.976)]"
     ]
    }
   ],
   "source": [
    "docs.take(10)"
   ]
  },
  {
   "cell_type": "code",
   "execution_count": 0,
   "metadata": {
    "application/vnd.databricks.v1+cell": {
     "cellMetadata": {
      "byteLimit": 2048000,
      "rowLimit": 10000
     },
     "inputWidgets": {},
     "nuid": "afe09306-88e0-4a1b-b4c9-67a9182840a5",
     "showTitle": false,
     "title": ""
    }
   },
   "outputs": [],
   "source": [
    "top10 = docs.sortBy(lambda x: -x[1])"
   ]
  },
  {
   "cell_type": "code",
   "execution_count": 0,
   "metadata": {
    "application/vnd.databricks.v1+cell": {
     "cellMetadata": {
      "byteLimit": 2048000,
      "rowLimit": 10000
     },
     "inputWidgets": {},
     "nuid": "9e1b0ff0-658b-4fe7-896a-b5aa33cb63e2",
     "showTitle": false,
     "title": ""
    }
   },
   "outputs": [],
   "source": [
    "top10List = top10.take(10)"
   ]
  },
  {
   "cell_type": "code",
   "execution_count": 0,
   "metadata": {
    "application/vnd.databricks.v1+cell": {
     "cellMetadata": {
      "byteLimit": 2048000,
      "rowLimit": 10000
     },
     "inputWidgets": {},
     "nuid": "57fe71fd-2ab7-4ea5-8942-0c6d97f48254",
     "showTitle": false,
     "title": ""
    }
   },
   "outputs": [],
   "source": [
    "top10Ids = [id[0][1] for id in top10List]\n",
    "top10IdAndWeights = [(id[0][1], id[1]) for id in top10List]"
   ]
  },
  {
   "cell_type": "markdown",
   "metadata": {
    "application/vnd.databricks.v1+cell": {
     "cellMetadata": {},
     "inputWidgets": {},
     "nuid": "d8b7de0c-867b-492d-9139-9aca08f543fd",
     "showTitle": false,
     "title": ""
    }
   },
   "source": [
    "# Time for looking up the top 10 movie names"
   ]
  },
  {
   "cell_type": "code",
   "execution_count": 0,
   "metadata": {
    "application/vnd.databricks.v1+cell": {
     "cellMetadata": {
      "byteLimit": 2048000,
      "rowLimit": 10000
     },
     "inputWidgets": {},
     "nuid": "a7b3b3bd-9f77-46fe-b68f-e4b8933644fc",
     "showTitle": false,
     "title": ""
    }
   },
   "outputs": [],
   "source": [
    "lookupdata = sc.textFile('dbfs:/FileStore/tables/movie_metadata.tsv')"
   ]
  },
  {
   "cell_type": "code",
   "execution_count": 0,
   "metadata": {
    "application/vnd.databricks.v1+cell": {
     "cellMetadata": {
      "byteLimit": 2048000,
      "rowLimit": 10000
     },
     "inputWidgets": {},
     "nuid": "ebaef8b9-c1f4-4f47-a714-ebc09b9c17b0",
     "showTitle": false,
     "title": ""
    }
   },
   "outputs": [],
   "source": [
    "movie_id_name = lookupdata.map(lambda x: (x.split('\\t')[0], x.split('\\t')[2])).filter(lambda x: x[0] in top10Ids)"
   ]
  },
  {
   "cell_type": "code",
   "execution_count": 0,
   "metadata": {
    "application/vnd.databricks.v1+cell": {
     "cellMetadata": {
      "byteLimit": 2048000,
      "rowLimit": 10000
     },
     "inputWidgets": {},
     "nuid": "0ec6c325-5c81-4c8e-a685-281ee7386ebe",
     "showTitle": false,
     "title": ""
    }
   },
   "outputs": [],
   "source": [
    "movie_id_name_list = movie_id_name.take(10)"
   ]
  },
  {
   "cell_type": "code",
   "execution_count": 0,
   "metadata": {
    "application/vnd.databricks.v1+cell": {
     "cellMetadata": {
      "byteLimit": 2048000,
      "rowLimit": 10000
     },
     "inputWidgets": {},
     "nuid": "d6bd9698-025b-4d4f-8cb7-e4bbcc6a6ae3",
     "showTitle": false,
     "title": ""
    }
   },
   "outputs": [],
   "source": [
    "movie_id_weight = dict(zip([x[0][1] for x in top10List], [x[1] for x in top10List]))"
   ]
  },
  {
   "cell_type": "code",
   "execution_count": 0,
   "metadata": {
    "application/vnd.databricks.v1+cell": {
     "cellMetadata": {
      "byteLimit": 2048000,
      "rowLimit": 10000
     },
     "inputWidgets": {},
     "nuid": "f03252d4-44d9-4e05-83b2-70bc5ecfc760",
     "showTitle": false,
     "title": ""
    }
   },
   "outputs": [
    {
     "output_type": "stream",
     "name": "stdout",
     "output_type": "stream",
     "text": [
      "Out[64]: {'35984240': 71.561,\n '1940533': 59.634,\n '237303': 59.634,\n '3511101': 55.658,\n '1065214': 51.683,\n '2576917': 39.756,\n '1130769': 39.756,\n '98991': 39.756,\n '15525072': 39.756,\n '652437': 39.756}"
     ]
    }
   ],
   "source": [
    "movie_id_weight"
   ]
  },
  {
   "cell_type": "code",
   "execution_count": 0,
   "metadata": {
    "application/vnd.databricks.v1+cell": {
     "cellMetadata": {
      "byteLimit": 2048000,
      "rowLimit": 10000
     },
     "inputWidgets": {},
     "nuid": "2f52f7d3-35ee-4d4e-80ef-69f78b068cbe",
     "showTitle": false,
     "title": ""
    }
   },
   "outputs": [],
   "source": [
    "ranked_movie_as_per_serach = sorted(movie_id_name_list,key=lambda x: -movie_id_weight[x[0]])"
   ]
  },
  {
   "cell_type": "code",
   "execution_count": 0,
   "metadata": {
    "application/vnd.databricks.v1+cell": {
     "cellMetadata": {
      "byteLimit": 2048000,
      "rowLimit": 10000
     },
     "inputWidgets": {},
     "nuid": "8828dd30-78d8-4aad-b51e-56226ab2ef66",
     "showTitle": false,
     "title": ""
    }
   },
   "outputs": [
    {
     "output_type": "stream",
     "name": "stdout",
     "output_type": "stream",
     "text": [
      "Out[71]: [('35984240', 'Oh My God'),\n ('1940533', 'Oh, God!'),\n ('237303', 'Bruce Almighty'),\n ('3511101', 'Skidoo'),\n ('1065214', 'Amadeus'),\n ('2576917', 'Evan Almighty'),\n ('1130769', 'The Messenger: The Story of Joan of Arc'),\n ('15525072', 'Oh, God! You Devil'),\n ('652437', 'Armour of God'),\n ('98991', 'Dogma')]"
     ]
    }
   ],
   "source": [
    "ranked_movie_as_per_serach"
   ]
  }
 ],
 "metadata": {
  "application/vnd.databricks.v1+notebook": {
   "dashboards": [],
   "environmentMetadata": null,
   "language": "python",
   "notebookMetadata": {
    "pythonIndentUnit": 4
   },
   "notebookName": "Movie_search_latest",
   "widgets": {}
  }
 },
 "nbformat": 4,
 "nbformat_minor": 0
}
